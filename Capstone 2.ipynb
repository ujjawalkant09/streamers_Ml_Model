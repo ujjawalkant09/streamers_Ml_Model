{
 "cells": [
  {
   "cell_type": "code",
   "execution_count": 2,
   "metadata": {},
   "outputs": [],
   "source": [
    "%matplotlib inline\n",
    "import numpy as np\n",
    "import pandas as pd\n",
    "from pandas.plotting import scatter_matrix\n",
    "import matplotlib\n",
    "import matplotlib.pyplot as plt\n",
    "import seaborn as sns\n",
    "from sklearn import model_selection\n",
    "from sklearn.metrics import classification_report\n",
    "from sklearn.metrics import confusion_matrix\n",
    "from sklearn.metrics import accuracy_score\n",
    "from sklearn.linear_model import LogisticRegression\n",
    "from sklearn.tree import DecisionTreeClassifier\n",
    "from sklearn.discriminant_analysis import LinearDiscriminantAnalysis\n",
    "from sklearn.svm import SVC"
   ]
  },
  {
   "cell_type": "code",
   "execution_count": 3,
   "metadata": {},
   "outputs": [],
   "source": [
    "all_stream_info = pd.read_csv(\"all_stream_info.csv\")\n",
    "all_stream_info_data_dict =  pd.read_csv(\"all_stream_info_data_dictionary.csv\")"
   ]
  },
  {
   "cell_type": "code",
   "execution_count": 4,
   "metadata": {},
   "outputs": [
    {
     "data": {
      "text/html": [
       "<div>\n",
       "<style scoped>\n",
       "    .dataframe tbody tr th:only-of-type {\n",
       "        vertical-align: middle;\n",
       "    }\n",
       "\n",
       "    .dataframe tbody tr th {\n",
       "        vertical-align: top;\n",
       "    }\n",
       "\n",
       "    .dataframe thead th {\n",
       "        text-align: right;\n",
       "    }\n",
       "</style>\n",
       "<table border=\"1\" class=\"dataframe\">\n",
       "  <thead>\n",
       "    <tr style=\"text-align: right;\">\n",
       "      <th></th>\n",
       "      <th>liveStreamID</th>\n",
       "      <th>beginTime</th>\n",
       "      <th>endTime</th>\n",
       "      <th>duration</th>\n",
       "      <th>closeBy</th>\n",
       "      <th>maxLiveViewerCount</th>\n",
       "      <th>maxLiveViewerTime</th>\n",
       "      <th>privateLiveStream</th>\n",
       "      <th>receivedLikeCount</th>\n",
       "      <th>streamerType</th>\n",
       "      <th>...</th>\n",
       "      <th>isContracted</th>\n",
       "      <th>uniqueViewerCount</th>\n",
       "      <th>ios</th>\n",
       "      <th>android</th>\n",
       "      <th>durationGTE5sec</th>\n",
       "      <th>durationGTE2min</th>\n",
       "      <th>durationGTE10min</th>\n",
       "      <th>avgViewerDuration</th>\n",
       "      <th>count</th>\n",
       "      <th>receivePointEstimated</th>\n",
       "    </tr>\n",
       "  </thead>\n",
       "  <tbody>\n",
       "    <tr>\n",
       "      <td>0</td>\n",
       "      <td>109437538</td>\n",
       "      <td>2020-06-22 11:55:21 UTC</td>\n",
       "      <td>2020-06-22 16:37:19 UTC</td>\n",
       "      <td>16918</td>\n",
       "      <td>normalEnd</td>\n",
       "      <td>363</td>\n",
       "      <td>2020-06-22 16:28:17.87 UTC</td>\n",
       "      <td>0</td>\n",
       "      <td>11092</td>\n",
       "      <td>0</td>\n",
       "      <td>...</td>\n",
       "      <td>NaN</td>\n",
       "      <td>779</td>\n",
       "      <td>46</td>\n",
       "      <td>30</td>\n",
       "      <td>68</td>\n",
       "      <td>17</td>\n",
       "      <td>13</td>\n",
       "      <td>424.32</td>\n",
       "      <td>1108</td>\n",
       "      <td>13105</td>\n",
       "    </tr>\n",
       "    <tr>\n",
       "      <td>1</td>\n",
       "      <td>109441785</td>\n",
       "      <td>2020-06-22 14:55:26 UTC</td>\n",
       "      <td>2020-06-22 21:31:19 UTC</td>\n",
       "      <td>23753</td>\n",
       "      <td>normalEnd</td>\n",
       "      <td>100</td>\n",
       "      <td>2020-06-22 19:07:52.872 UTC</td>\n",
       "      <td>0</td>\n",
       "      <td>772</td>\n",
       "      <td>0</td>\n",
       "      <td>...</td>\n",
       "      <td>NaN</td>\n",
       "      <td>821</td>\n",
       "      <td>54</td>\n",
       "      <td>38</td>\n",
       "      <td>68</td>\n",
       "      <td>20</td>\n",
       "      <td>8</td>\n",
       "      <td>186.28</td>\n",
       "      <td>2318</td>\n",
       "      <td>90701</td>\n",
       "    </tr>\n",
       "    <tr>\n",
       "      <td>2</td>\n",
       "      <td>109438205</td>\n",
       "      <td>2020-06-22 12:20:34 UTC</td>\n",
       "      <td>2020-06-22 16:02:46 UTC</td>\n",
       "      <td>13332</td>\n",
       "      <td>disconnect</td>\n",
       "      <td>471</td>\n",
       "      <td>2020-06-22 14:53:26.692 UTC</td>\n",
       "      <td>0</td>\n",
       "      <td>19403</td>\n",
       "      <td>0</td>\n",
       "      <td>...</td>\n",
       "      <td>NaN</td>\n",
       "      <td>1605</td>\n",
       "      <td>529</td>\n",
       "      <td>223</td>\n",
       "      <td>696</td>\n",
       "      <td>60</td>\n",
       "      <td>17</td>\n",
       "      <td>81.14</td>\n",
       "      <td>1199</td>\n",
       "      <td>222376</td>\n",
       "    </tr>\n",
       "    <tr>\n",
       "      <td>3</td>\n",
       "      <td>109438917</td>\n",
       "      <td>2020-06-22 12:54:21 UTC</td>\n",
       "      <td>2020-06-22 14:47:27 UTC</td>\n",
       "      <td>6786</td>\n",
       "      <td>normalEnd</td>\n",
       "      <td>44</td>\n",
       "      <td>2020-06-22 14:29:13.806 UTC</td>\n",
       "      <td>0</td>\n",
       "      <td>191</td>\n",
       "      <td>0</td>\n",
       "      <td>...</td>\n",
       "      <td>NaN</td>\n",
       "      <td>96</td>\n",
       "      <td>23</td>\n",
       "      <td>24</td>\n",
       "      <td>41</td>\n",
       "      <td>12</td>\n",
       "      <td>8</td>\n",
       "      <td>389.91</td>\n",
       "      <td>432</td>\n",
       "      <td>4313</td>\n",
       "    </tr>\n",
       "    <tr>\n",
       "      <td>4</td>\n",
       "      <td>109442185</td>\n",
       "      <td>2020-06-22 15:18:20 UTC</td>\n",
       "      <td>2020-06-22 15:48:02 UTC</td>\n",
       "      <td>1782</td>\n",
       "      <td>normalEnd</td>\n",
       "      <td>52</td>\n",
       "      <td>2020-06-22 15:42:33.849 UTC</td>\n",
       "      <td>0</td>\n",
       "      <td>77</td>\n",
       "      <td>0</td>\n",
       "      <td>...</td>\n",
       "      <td>NaN</td>\n",
       "      <td>109</td>\n",
       "      <td>20</td>\n",
       "      <td>18</td>\n",
       "      <td>38</td>\n",
       "      <td>17</td>\n",
       "      <td>5</td>\n",
       "      <td>222.76</td>\n",
       "      <td>162</td>\n",
       "      <td>1547</td>\n",
       "    </tr>\n",
       "  </tbody>\n",
       "</table>\n",
       "<p>5 rows × 24 columns</p>\n",
       "</div>"
      ],
      "text/plain": [
       "   liveStreamID                beginTime                  endTime  duration  \\\n",
       "0     109437538  2020-06-22 11:55:21 UTC  2020-06-22 16:37:19 UTC     16918   \n",
       "1     109441785  2020-06-22 14:55:26 UTC  2020-06-22 21:31:19 UTC     23753   \n",
       "2     109438205  2020-06-22 12:20:34 UTC  2020-06-22 16:02:46 UTC     13332   \n",
       "3     109438917  2020-06-22 12:54:21 UTC  2020-06-22 14:47:27 UTC      6786   \n",
       "4     109442185  2020-06-22 15:18:20 UTC  2020-06-22 15:48:02 UTC      1782   \n",
       "\n",
       "      closeBy  maxLiveViewerCount            maxLiveViewerTime  \\\n",
       "0   normalEnd                 363   2020-06-22 16:28:17.87 UTC   \n",
       "1   normalEnd                 100  2020-06-22 19:07:52.872 UTC   \n",
       "2  disconnect                 471  2020-06-22 14:53:26.692 UTC   \n",
       "3   normalEnd                  44  2020-06-22 14:29:13.806 UTC   \n",
       "4   normalEnd                  52  2020-06-22 15:42:33.849 UTC   \n",
       "\n",
       "   privateLiveStream  receivedLikeCount  streamerType  ...  isContracted  \\\n",
       "0                  0              11092             0  ...           NaN   \n",
       "1                  0                772             0  ...           NaN   \n",
       "2                  0              19403             0  ...           NaN   \n",
       "3                  0                191             0  ...           NaN   \n",
       "4                  0                 77             0  ...           NaN   \n",
       "\n",
       "   uniqueViewerCount  ios android  durationGTE5sec  durationGTE2min  \\\n",
       "0                779   46      30               68               17   \n",
       "1                821   54      38               68               20   \n",
       "2               1605  529     223              696               60   \n",
       "3                 96   23      24               41               12   \n",
       "4                109   20      18               38               17   \n",
       "\n",
       "   durationGTE10min  avgViewerDuration  count  receivePointEstimated  \n",
       "0                13             424.32   1108                  13105  \n",
       "1                 8             186.28   2318                  90701  \n",
       "2                17              81.14   1199                 222376  \n",
       "3                 8             389.91    432                   4313  \n",
       "4                 5             222.76    162                   1547  \n",
       "\n",
       "[5 rows x 24 columns]"
      ]
     },
     "execution_count": 4,
     "metadata": {},
     "output_type": "execute_result"
    }
   ],
   "source": [
    "all_stream_info.head()"
   ]
  },
  {
   "cell_type": "code",
   "execution_count": 15,
   "metadata": {},
   "outputs": [
    {
     "data": {
      "text/html": [
       "<div>\n",
       "<style scoped>\n",
       "    .dataframe tbody tr th:only-of-type {\n",
       "        vertical-align: middle;\n",
       "    }\n",
       "\n",
       "    .dataframe tbody tr th {\n",
       "        vertical-align: top;\n",
       "    }\n",
       "\n",
       "    .dataframe thead th {\n",
       "        text-align: right;\n",
       "    }\n",
       "</style>\n",
       "<table border=\"1\" class=\"dataframe\">\n",
       "  <thead>\n",
       "    <tr style=\"text-align: right;\">\n",
       "      <th></th>\n",
       "      <th>liveStreamID</th>\n",
       "      <th>beginTime</th>\n",
       "      <th>endTime</th>\n",
       "      <th>duration</th>\n",
       "      <th>closeBy</th>\n",
       "      <th>maxLiveViewerCount</th>\n",
       "      <th>maxLiveViewerTime</th>\n",
       "      <th>privateLiveStream</th>\n",
       "      <th>receivedLikeCount</th>\n",
       "      <th>streamerType</th>\n",
       "      <th>...</th>\n",
       "      <th>isContracted</th>\n",
       "      <th>uniqueViewerCount</th>\n",
       "      <th>ios</th>\n",
       "      <th>android</th>\n",
       "      <th>durationGTE5sec</th>\n",
       "      <th>durationGTE2min</th>\n",
       "      <th>durationGTE10min</th>\n",
       "      <th>avgViewerDuration</th>\n",
       "      <th>count</th>\n",
       "      <th>receivePointEstimated</th>\n",
       "    </tr>\n",
       "  </thead>\n",
       "  <tbody>\n",
       "    <tr>\n",
       "      <td>3143</td>\n",
       "      <td>109413699</td>\n",
       "      <td>2020-06-20 16:48:56 UTC</td>\n",
       "      <td>2020-06-20 18:51:04 UTC</td>\n",
       "      <td>7328</td>\n",
       "      <td>normalEnd</td>\n",
       "      <td>7</td>\n",
       "      <td>2020-06-20 17:18:50.606 UTC</td>\n",
       "      <td>0</td>\n",
       "      <td>134</td>\n",
       "      <td>0</td>\n",
       "      <td>...</td>\n",
       "      <td>NaN</td>\n",
       "      <td>42</td>\n",
       "      <td>18</td>\n",
       "      <td>18</td>\n",
       "      <td>34</td>\n",
       "      <td>8</td>\n",
       "      <td>3</td>\n",
       "      <td>239.86</td>\n",
       "      <td>212</td>\n",
       "      <td>33</td>\n",
       "    </tr>\n",
       "    <tr>\n",
       "      <td>3144</td>\n",
       "      <td>109415658</td>\n",
       "      <td>2020-06-20 22:47:12 UTC</td>\n",
       "      <td>2020-06-21 00:32:00 UTC</td>\n",
       "      <td>6288</td>\n",
       "      <td>normalEnd</td>\n",
       "      <td>37</td>\n",
       "      <td>2020-06-20 22:59:11.597 UTC</td>\n",
       "      <td>0</td>\n",
       "      <td>143</td>\n",
       "      <td>0</td>\n",
       "      <td>...</td>\n",
       "      <td>NaN</td>\n",
       "      <td>93</td>\n",
       "      <td>48</td>\n",
       "      <td>40</td>\n",
       "      <td>82</td>\n",
       "      <td>6</td>\n",
       "      <td>2</td>\n",
       "      <td>51.41</td>\n",
       "      <td>77</td>\n",
       "      <td>1328</td>\n",
       "    </tr>\n",
       "    <tr>\n",
       "      <td>3145</td>\n",
       "      <td>109400227</td>\n",
       "      <td>2020-06-20 00:09:39 UTC</td>\n",
       "      <td>2020-06-20 02:38:47 UTC</td>\n",
       "      <td>8948</td>\n",
       "      <td>normalEnd</td>\n",
       "      <td>4</td>\n",
       "      <td>2020-06-20 01:04:42.528 UTC</td>\n",
       "      <td>0</td>\n",
       "      <td>41</td>\n",
       "      <td>0</td>\n",
       "      <td>...</td>\n",
       "      <td>NaN</td>\n",
       "      <td>15</td>\n",
       "      <td>12</td>\n",
       "      <td>3</td>\n",
       "      <td>14</td>\n",
       "      <td>4</td>\n",
       "      <td>0</td>\n",
       "      <td>112.67</td>\n",
       "      <td>58</td>\n",
       "      <td>32</td>\n",
       "    </tr>\n",
       "    <tr>\n",
       "      <td>3146</td>\n",
       "      <td>109401955</td>\n",
       "      <td>2020-06-20 03:55:09 UTC</td>\n",
       "      <td>2020-06-20 05:05:08 UTC</td>\n",
       "      <td>4199</td>\n",
       "      <td>normalEnd</td>\n",
       "      <td>7</td>\n",
       "      <td>2020-06-20 04:35:33.638 UTC</td>\n",
       "      <td>0</td>\n",
       "      <td>72</td>\n",
       "      <td>0</td>\n",
       "      <td>...</td>\n",
       "      <td>NaN</td>\n",
       "      <td>44</td>\n",
       "      <td>21</td>\n",
       "      <td>23</td>\n",
       "      <td>41</td>\n",
       "      <td>12</td>\n",
       "      <td>8</td>\n",
       "      <td>232.02</td>\n",
       "      <td>190</td>\n",
       "      <td>39166</td>\n",
       "    </tr>\n",
       "    <tr>\n",
       "      <td>3147</td>\n",
       "      <td>109414606</td>\n",
       "      <td>2020-06-20 18:49:40 UTC</td>\n",
       "      <td>2020-06-20 21:55:58 UTC</td>\n",
       "      <td>11178</td>\n",
       "      <td>normalEnd</td>\n",
       "      <td>19</td>\n",
       "      <td>2020-06-20 21:51:22.06 UTC</td>\n",
       "      <td>0</td>\n",
       "      <td>21</td>\n",
       "      <td>0</td>\n",
       "      <td>...</td>\n",
       "      <td>NaN</td>\n",
       "      <td>120</td>\n",
       "      <td>36</td>\n",
       "      <td>43</td>\n",
       "      <td>73</td>\n",
       "      <td>18</td>\n",
       "      <td>13</td>\n",
       "      <td>788.23</td>\n",
       "      <td>655</td>\n",
       "      <td>24377</td>\n",
       "    </tr>\n",
       "  </tbody>\n",
       "</table>\n",
       "<p>5 rows × 24 columns</p>\n",
       "</div>"
      ],
      "text/plain": [
       "      liveStreamID                beginTime                  endTime  \\\n",
       "3143     109413699  2020-06-20 16:48:56 UTC  2020-06-20 18:51:04 UTC   \n",
       "3144     109415658  2020-06-20 22:47:12 UTC  2020-06-21 00:32:00 UTC   \n",
       "3145     109400227  2020-06-20 00:09:39 UTC  2020-06-20 02:38:47 UTC   \n",
       "3146     109401955  2020-06-20 03:55:09 UTC  2020-06-20 05:05:08 UTC   \n",
       "3147     109414606  2020-06-20 18:49:40 UTC  2020-06-20 21:55:58 UTC   \n",
       "\n",
       "      duration    closeBy  maxLiveViewerCount            maxLiveViewerTime  \\\n",
       "3143      7328  normalEnd                   7  2020-06-20 17:18:50.606 UTC   \n",
       "3144      6288  normalEnd                  37  2020-06-20 22:59:11.597 UTC   \n",
       "3145      8948  normalEnd                   4  2020-06-20 01:04:42.528 UTC   \n",
       "3146      4199  normalEnd                   7  2020-06-20 04:35:33.638 UTC   \n",
       "3147     11178  normalEnd                  19   2020-06-20 21:51:22.06 UTC   \n",
       "\n",
       "      privateLiveStream  receivedLikeCount  streamerType  ...  isContracted  \\\n",
       "3143                  0                134             0  ...           NaN   \n",
       "3144                  0                143             0  ...           NaN   \n",
       "3145                  0                 41             0  ...           NaN   \n",
       "3146                  0                 72             0  ...           NaN   \n",
       "3147                  0                 21             0  ...           NaN   \n",
       "\n",
       "      uniqueViewerCount ios android  durationGTE5sec  durationGTE2min  \\\n",
       "3143                 42  18      18               34                8   \n",
       "3144                 93  48      40               82                6   \n",
       "3145                 15  12       3               14                4   \n",
       "3146                 44  21      23               41               12   \n",
       "3147                120  36      43               73               18   \n",
       "\n",
       "      durationGTE10min  avgViewerDuration  count  receivePointEstimated  \n",
       "3143                 3             239.86    212                     33  \n",
       "3144                 2              51.41     77                   1328  \n",
       "3145                 0             112.67     58                     32  \n",
       "3146                 8             232.02    190                  39166  \n",
       "3147                13             788.23    655                  24377  \n",
       "\n",
       "[5 rows x 24 columns]"
      ]
     },
     "execution_count": 15,
     "metadata": {},
     "output_type": "execute_result"
    }
   ],
   "source": [
    "all_stream_info.tail()"
   ]
  },
  {
   "cell_type": "code",
   "execution_count": 17,
   "metadata": {},
   "outputs": [
    {
     "data": {
      "text/html": [
       "<div>\n",
       "<style scoped>\n",
       "    .dataframe tbody tr th:only-of-type {\n",
       "        vertical-align: middle;\n",
       "    }\n",
       "\n",
       "    .dataframe tbody tr th {\n",
       "        vertical-align: top;\n",
       "    }\n",
       "\n",
       "    .dataframe thead th {\n",
       "        text-align: right;\n",
       "    }\n",
       "</style>\n",
       "<table border=\"1\" class=\"dataframe\">\n",
       "  <thead>\n",
       "    <tr style=\"text-align: right;\">\n",
       "      <th></th>\n",
       "      <th>Column name</th>\n",
       "      <th>Description</th>\n",
       "    </tr>\n",
       "  </thead>\n",
       "  <tbody>\n",
       "    <tr>\n",
       "      <td>0</td>\n",
       "      <td>liveStreamID</td>\n",
       "      <td>stream unique ID</td>\n",
       "    </tr>\n",
       "    <tr>\n",
       "      <td>1</td>\n",
       "      <td>beginTime</td>\n",
       "      <td>stream begin time</td>\n",
       "    </tr>\n",
       "    <tr>\n",
       "      <td>2</td>\n",
       "      <td>endTime</td>\n",
       "      <td>stream end time</td>\n",
       "    </tr>\n",
       "    <tr>\n",
       "      <td>3</td>\n",
       "      <td>duration</td>\n",
       "      <td>stream duration in sec</td>\n",
       "    </tr>\n",
       "    <tr>\n",
       "      <td>4</td>\n",
       "      <td>closeBy</td>\n",
       "      <td>How the stream ended</td>\n",
       "    </tr>\n",
       "    <tr>\n",
       "      <td>5</td>\n",
       "      <td>maxLiveViewerCount</td>\n",
       "      <td>The max number of live viewers at any time dur...</td>\n",
       "    </tr>\n",
       "    <tr>\n",
       "      <td>6</td>\n",
       "      <td>maxLiveViewerTime</td>\n",
       "      <td>time at which max viewers were live</td>\n",
       "    </tr>\n",
       "    <tr>\n",
       "      <td>7</td>\n",
       "      <td>privateLiveStream</td>\n",
       "      <td>Whether it is private or public stream</td>\n",
       "    </tr>\n",
       "    <tr>\n",
       "      <td>8</td>\n",
       "      <td>receivedLikeCount</td>\n",
       "      <td>number of likes received</td>\n",
       "    </tr>\n",
       "    <tr>\n",
       "      <td>9</td>\n",
       "      <td>streamerType</td>\n",
       "      <td>streamerType\\n0 - LiveStream\\n1 - Show\\n2 - re...</td>\n",
       "    </tr>\n",
       "    <tr>\n",
       "      <td>10</td>\n",
       "      <td>isShow</td>\n",
       "      <td>Shown or not</td>\n",
       "    </tr>\n",
       "    <tr>\n",
       "      <td>11</td>\n",
       "      <td>cultureGroup</td>\n",
       "      <td>cultureGroup</td>\n",
       "    </tr>\n",
       "    <tr>\n",
       "      <td>12</td>\n",
       "      <td>userID</td>\n",
       "      <td>unique id of streamer</td>\n",
       "    </tr>\n",
       "    <tr>\n",
       "      <td>13</td>\n",
       "      <td>registerCountry</td>\n",
       "      <td>streamer register country</td>\n",
       "    </tr>\n",
       "    <tr>\n",
       "      <td>14</td>\n",
       "      <td>isContracted</td>\n",
       "      <td>streamer is in contract or not</td>\n",
       "    </tr>\n",
       "    <tr>\n",
       "      <td>15</td>\n",
       "      <td>uniqueViewerCount</td>\n",
       "      <td>Total unique viewer count</td>\n",
       "    </tr>\n",
       "    <tr>\n",
       "      <td>16</td>\n",
       "      <td>ios</td>\n",
       "      <td>Viewers from ios</td>\n",
       "    </tr>\n",
       "    <tr>\n",
       "      <td>17</td>\n",
       "      <td>android</td>\n",
       "      <td>Viewers from android</td>\n",
       "    </tr>\n",
       "    <tr>\n",
       "      <td>18</td>\n",
       "      <td>durationGTE5sec</td>\n",
       "      <td>viewer count who stayed greater than 5 sec</td>\n",
       "    </tr>\n",
       "    <tr>\n",
       "      <td>19</td>\n",
       "      <td>durationGTE2min</td>\n",
       "      <td>viewer count who stayed greater than 2 min</td>\n",
       "    </tr>\n",
       "    <tr>\n",
       "      <td>20</td>\n",
       "      <td>durationGTE10min</td>\n",
       "      <td>viewer count who stayed greater than 10 min</td>\n",
       "    </tr>\n",
       "    <tr>\n",
       "      <td>21</td>\n",
       "      <td>avgViewerDuration</td>\n",
       "      <td>avgViewerDuration</td>\n",
       "    </tr>\n",
       "    <tr>\n",
       "      <td>22</td>\n",
       "      <td>count</td>\n",
       "      <td>total comment count</td>\n",
       "    </tr>\n",
       "    <tr>\n",
       "      <td>23</td>\n",
       "      <td>receivePointEstimated</td>\n",
       "      <td>Total Points received.</td>\n",
       "    </tr>\n",
       "  </tbody>\n",
       "</table>\n",
       "</div>"
      ],
      "text/plain": [
       "              Column name                                        Description\n",
       "0            liveStreamID                                   stream unique ID\n",
       "1               beginTime                                  stream begin time\n",
       "2                 endTime                                    stream end time\n",
       "3                duration                             stream duration in sec\n",
       "4                 closeBy                               How the stream ended\n",
       "5      maxLiveViewerCount  The max number of live viewers at any time dur...\n",
       "6       maxLiveViewerTime                time at which max viewers were live\n",
       "7       privateLiveStream             Whether it is private or public stream\n",
       "8       receivedLikeCount                           number of likes received\n",
       "9            streamerType  streamerType\\n0 - LiveStream\\n1 - Show\\n2 - re...\n",
       "10                 isShow                                       Shown or not\n",
       "11           cultureGroup                                       cultureGroup\n",
       "12                 userID                              unique id of streamer\n",
       "13        registerCountry                          streamer register country\n",
       "14           isContracted                     streamer is in contract or not\n",
       "15      uniqueViewerCount                          Total unique viewer count\n",
       "16                    ios                                   Viewers from ios\n",
       "17                android                               Viewers from android\n",
       "18        durationGTE5sec         viewer count who stayed greater than 5 sec\n",
       "19        durationGTE2min         viewer count who stayed greater than 2 min\n",
       "20       durationGTE10min        viewer count who stayed greater than 10 min\n",
       "21      avgViewerDuration                                  avgViewerDuration\n",
       "22                  count                                total comment count\n",
       "23  receivePointEstimated                             Total Points received."
      ]
     },
     "execution_count": 17,
     "metadata": {},
     "output_type": "execute_result"
    }
   ],
   "source": [
    "all_stream_info_data_dict"
   ]
  },
  {
   "cell_type": "code",
   "execution_count": null,
   "metadata": {},
   "outputs": [],
   "source": []
  },
  {
   "cell_type": "code",
   "execution_count": 19,
   "metadata": {},
   "outputs": [
    {
     "data": {
      "text/html": [
       "<div>\n",
       "<style scoped>\n",
       "    .dataframe tbody tr th:only-of-type {\n",
       "        vertical-align: middle;\n",
       "    }\n",
       "\n",
       "    .dataframe tbody tr th {\n",
       "        vertical-align: top;\n",
       "    }\n",
       "\n",
       "    .dataframe thead th {\n",
       "        text-align: right;\n",
       "    }\n",
       "</style>\n",
       "<table border=\"1\" class=\"dataframe\">\n",
       "  <thead>\n",
       "    <tr style=\"text-align: right;\">\n",
       "      <th></th>\n",
       "      <th>liveStreamID</th>\n",
       "      <th>duration</th>\n",
       "      <th>maxLiveViewerCount</th>\n",
       "      <th>privateLiveStream</th>\n",
       "      <th>receivedLikeCount</th>\n",
       "      <th>streamerType</th>\n",
       "      <th>cultureGroup</th>\n",
       "      <th>isContracted</th>\n",
       "      <th>uniqueViewerCount</th>\n",
       "      <th>ios</th>\n",
       "      <th>android</th>\n",
       "      <th>durationGTE5sec</th>\n",
       "      <th>durationGTE2min</th>\n",
       "      <th>durationGTE10min</th>\n",
       "      <th>avgViewerDuration</th>\n",
       "      <th>count</th>\n",
       "      <th>receivePointEstimated</th>\n",
       "    </tr>\n",
       "  </thead>\n",
       "  <tbody>\n",
       "    <tr>\n",
       "      <td>count</td>\n",
       "      <td>3.148000e+03</td>\n",
       "      <td>3148.000000</td>\n",
       "      <td>3148.000000</td>\n",
       "      <td>3148.0</td>\n",
       "      <td>3148.000000</td>\n",
       "      <td>3148.0</td>\n",
       "      <td>0.0</td>\n",
       "      <td>0.0</td>\n",
       "      <td>3148.000000</td>\n",
       "      <td>3148.000000</td>\n",
       "      <td>3148.000000</td>\n",
       "      <td>3148.000000</td>\n",
       "      <td>3148.000000</td>\n",
       "      <td>3148.000000</td>\n",
       "      <td>1689.000000</td>\n",
       "      <td>3148.000000</td>\n",
       "      <td>3.148000e+03</td>\n",
       "    </tr>\n",
       "    <tr>\n",
       "      <td>mean</td>\n",
       "      <td>1.093797e+08</td>\n",
       "      <td>3495.864041</td>\n",
       "      <td>15.416773</td>\n",
       "      <td>0.0</td>\n",
       "      <td>358.428526</td>\n",
       "      <td>0.0</td>\n",
       "      <td>NaN</td>\n",
       "      <td>NaN</td>\n",
       "      <td>55.416773</td>\n",
       "      <td>26.285896</td>\n",
       "      <td>20.519377</td>\n",
       "      <td>44.560991</td>\n",
       "      <td>8.994917</td>\n",
       "      <td>3.937103</td>\n",
       "      <td>241.049467</td>\n",
       "      <td>126.772872</td>\n",
       "      <td>8.874376e+03</td>\n",
       "    </tr>\n",
       "    <tr>\n",
       "      <td>std</td>\n",
       "      <td>3.381310e+04</td>\n",
       "      <td>6651.916426</td>\n",
       "      <td>45.505183</td>\n",
       "      <td>0.0</td>\n",
       "      <td>2145.579197</td>\n",
       "      <td>0.0</td>\n",
       "      <td>NaN</td>\n",
       "      <td>NaN</td>\n",
       "      <td>160.855894</td>\n",
       "      <td>81.280647</td>\n",
       "      <td>60.532012</td>\n",
       "      <td>131.896474</td>\n",
       "      <td>26.843270</td>\n",
       "      <td>13.057200</td>\n",
       "      <td>244.360800</td>\n",
       "      <td>330.297666</td>\n",
       "      <td>4.778547e+04</td>\n",
       "    </tr>\n",
       "    <tr>\n",
       "      <td>min</td>\n",
       "      <td>1.093211e+08</td>\n",
       "      <td>0.000000</td>\n",
       "      <td>0.000000</td>\n",
       "      <td>0.0</td>\n",
       "      <td>0.000000</td>\n",
       "      <td>0.0</td>\n",
       "      <td>NaN</td>\n",
       "      <td>NaN</td>\n",
       "      <td>0.000000</td>\n",
       "      <td>0.000000</td>\n",
       "      <td>0.000000</td>\n",
       "      <td>0.000000</td>\n",
       "      <td>0.000000</td>\n",
       "      <td>0.000000</td>\n",
       "      <td>0.000000</td>\n",
       "      <td>0.000000</td>\n",
       "      <td>0.000000e+00</td>\n",
       "    </tr>\n",
       "    <tr>\n",
       "      <td>25%</td>\n",
       "      <td>1.093518e+08</td>\n",
       "      <td>136.750000</td>\n",
       "      <td>0.000000</td>\n",
       "      <td>0.0</td>\n",
       "      <td>0.000000</td>\n",
       "      <td>0.0</td>\n",
       "      <td>NaN</td>\n",
       "      <td>NaN</td>\n",
       "      <td>0.000000</td>\n",
       "      <td>0.000000</td>\n",
       "      <td>0.000000</td>\n",
       "      <td>0.000000</td>\n",
       "      <td>0.000000</td>\n",
       "      <td>0.000000</td>\n",
       "      <td>83.060000</td>\n",
       "      <td>0.000000</td>\n",
       "      <td>0.000000e+00</td>\n",
       "    </tr>\n",
       "    <tr>\n",
       "      <td>50%</td>\n",
       "      <td>1.093835e+08</td>\n",
       "      <td>1032.500000</td>\n",
       "      <td>2.000000</td>\n",
       "      <td>0.0</td>\n",
       "      <td>0.000000</td>\n",
       "      <td>0.0</td>\n",
       "      <td>NaN</td>\n",
       "      <td>NaN</td>\n",
       "      <td>2.000000</td>\n",
       "      <td>1.000000</td>\n",
       "      <td>0.000000</td>\n",
       "      <td>1.000000</td>\n",
       "      <td>0.000000</td>\n",
       "      <td>0.000000</td>\n",
       "      <td>185.300000</td>\n",
       "      <td>1.000000</td>\n",
       "      <td>0.000000e+00</td>\n",
       "    </tr>\n",
       "    <tr>\n",
       "      <td>75%</td>\n",
       "      <td>1.094082e+08</td>\n",
       "      <td>4801.500000</td>\n",
       "      <td>8.000000</td>\n",
       "      <td>0.0</td>\n",
       "      <td>62.000000</td>\n",
       "      <td>0.0</td>\n",
       "      <td>NaN</td>\n",
       "      <td>NaN</td>\n",
       "      <td>39.000000</td>\n",
       "      <td>20.000000</td>\n",
       "      <td>11.000000</td>\n",
       "      <td>31.000000</td>\n",
       "      <td>8.000000</td>\n",
       "      <td>3.000000</td>\n",
       "      <td>318.980000</td>\n",
       "      <td>112.250000</td>\n",
       "      <td>1.501500e+03</td>\n",
       "    </tr>\n",
       "    <tr>\n",
       "      <td>max</td>\n",
       "      <td>1.094427e+08</td>\n",
       "      <td>121258.000000</td>\n",
       "      <td>493.000000</td>\n",
       "      <td>0.0</td>\n",
       "      <td>65831.000000</td>\n",
       "      <td>0.0</td>\n",
       "      <td>NaN</td>\n",
       "      <td>NaN</td>\n",
       "      <td>2385.000000</td>\n",
       "      <td>1639.000000</td>\n",
       "      <td>730.000000</td>\n",
       "      <td>2142.000000</td>\n",
       "      <td>493.000000</td>\n",
       "      <td>302.000000</td>\n",
       "      <td>2855.000000</td>\n",
       "      <td>5342.000000</td>\n",
       "      <td>1.474727e+06</td>\n",
       "    </tr>\n",
       "  </tbody>\n",
       "</table>\n",
       "</div>"
      ],
      "text/plain": [
       "       liveStreamID       duration  maxLiveViewerCount  privateLiveStream  \\\n",
       "count  3.148000e+03    3148.000000         3148.000000             3148.0   \n",
       "mean   1.093797e+08    3495.864041           15.416773                0.0   \n",
       "std    3.381310e+04    6651.916426           45.505183                0.0   \n",
       "min    1.093211e+08       0.000000            0.000000                0.0   \n",
       "25%    1.093518e+08     136.750000            0.000000                0.0   \n",
       "50%    1.093835e+08    1032.500000            2.000000                0.0   \n",
       "75%    1.094082e+08    4801.500000            8.000000                0.0   \n",
       "max    1.094427e+08  121258.000000          493.000000                0.0   \n",
       "\n",
       "       receivedLikeCount  streamerType  cultureGroup  isContracted  \\\n",
       "count        3148.000000        3148.0           0.0           0.0   \n",
       "mean          358.428526           0.0           NaN           NaN   \n",
       "std          2145.579197           0.0           NaN           NaN   \n",
       "min             0.000000           0.0           NaN           NaN   \n",
       "25%             0.000000           0.0           NaN           NaN   \n",
       "50%             0.000000           0.0           NaN           NaN   \n",
       "75%            62.000000           0.0           NaN           NaN   \n",
       "max         65831.000000           0.0           NaN           NaN   \n",
       "\n",
       "       uniqueViewerCount          ios      android  durationGTE5sec  \\\n",
       "count        3148.000000  3148.000000  3148.000000      3148.000000   \n",
       "mean           55.416773    26.285896    20.519377        44.560991   \n",
       "std           160.855894    81.280647    60.532012       131.896474   \n",
       "min             0.000000     0.000000     0.000000         0.000000   \n",
       "25%             0.000000     0.000000     0.000000         0.000000   \n",
       "50%             2.000000     1.000000     0.000000         1.000000   \n",
       "75%            39.000000    20.000000    11.000000        31.000000   \n",
       "max          2385.000000  1639.000000   730.000000      2142.000000   \n",
       "\n",
       "       durationGTE2min  durationGTE10min  avgViewerDuration        count  \\\n",
       "count      3148.000000       3148.000000        1689.000000  3148.000000   \n",
       "mean          8.994917          3.937103         241.049467   126.772872   \n",
       "std          26.843270         13.057200         244.360800   330.297666   \n",
       "min           0.000000          0.000000           0.000000     0.000000   \n",
       "25%           0.000000          0.000000          83.060000     0.000000   \n",
       "50%           0.000000          0.000000         185.300000     1.000000   \n",
       "75%           8.000000          3.000000         318.980000   112.250000   \n",
       "max         493.000000        302.000000        2855.000000  5342.000000   \n",
       "\n",
       "       receivePointEstimated  \n",
       "count           3.148000e+03  \n",
       "mean            8.874376e+03  \n",
       "std             4.778547e+04  \n",
       "min             0.000000e+00  \n",
       "25%             0.000000e+00  \n",
       "50%             0.000000e+00  \n",
       "75%             1.501500e+03  \n",
       "max             1.474727e+06  "
      ]
     },
     "execution_count": 19,
     "metadata": {},
     "output_type": "execute_result"
    }
   ],
   "source": [
    "all_stream_info.describe()"
   ]
  },
  {
   "cell_type": "code",
   "execution_count": 130,
   "metadata": {},
   "outputs": [
    {
     "data": {
      "text/plain": [
       "liveStreamID               int64\n",
       "beginTime                 object\n",
       "endTime                   object\n",
       "duration                   int64\n",
       "closeBy                   object\n",
       "maxLiveViewerCount         int64\n",
       "maxLiveViewerTime         object\n",
       "privateLiveStream          int64\n",
       "receivedLikeCount          int64\n",
       "streamerType               int64\n",
       "isShow                      bool\n",
       "cultureGroup             float64\n",
       "userID                    object\n",
       "registerCountry           object\n",
       "isContracted             float64\n",
       "uniqueViewerCount          int64\n",
       "ios                        int64\n",
       "android                    int64\n",
       "durationGTE5sec            int64\n",
       "durationGTE2min            int64\n",
       "durationGTE10min           int64\n",
       "avgViewerDuration        float64\n",
       "count                      int64\n",
       "receivePointEstimated      int64\n",
       "dtype: object"
      ]
     },
     "execution_count": 130,
     "metadata": {},
     "output_type": "execute_result"
    }
   ],
   "source": [
    "all_stream_info.dtypes"
   ]
  },
  {
   "cell_type": "code",
   "execution_count": 35,
   "metadata": {},
   "outputs": [],
   "source": [
    "missing_categorical = [var for var in all_stream_info.columns if all_stream_info[var].isnull().mean()>0 and all_stream_info[var].dtypes == 'O']"
   ]
  },
  {
   "cell_type": "code",
   "execution_count": 36,
   "metadata": {},
   "outputs": [
    {
     "data": {
      "text/plain": [
       "['closeBy', 'maxLiveViewerTime']"
      ]
     },
     "execution_count": 36,
     "metadata": {},
     "output_type": "execute_result"
    }
   ],
   "source": [
    "missing_categorical"
   ]
  },
  {
   "cell_type": "code",
   "execution_count": 133,
   "metadata": {},
   "outputs": [],
   "source": [
    "missing_numerical = [var for var in all_stream_info.columns if all_stream_info[var].isnull().mean()>0 and (all_stream_info[var].dtypes == 'float64' or all_stream_info[var].dtypes == 'int64' )]"
   ]
  },
  {
   "cell_type": "code",
   "execution_count": 134,
   "metadata": {},
   "outputs": [
    {
     "data": {
      "text/plain": [
       "['cultureGroup', 'isContracted', 'avgViewerDuration']"
      ]
     },
     "execution_count": 134,
     "metadata": {},
     "output_type": "execute_result"
    }
   ],
   "source": [
    "missing_numerical"
   ]
  },
  {
   "cell_type": "markdown",
   "metadata": {},
   "source": [
    "## Handling Categorical Values "
   ]
  },
  {
   "cell_type": "code",
   "execution_count": 39,
   "metadata": {},
   "outputs": [
    {
     "data": {
      "text/plain": [
       "0.030813214739517154"
      ]
     },
     "execution_count": 39,
     "metadata": {},
     "output_type": "execute_result"
    }
   ],
   "source": [
    "all_stream_info[\"closeBy\"].isnull().mean()"
   ]
  },
  {
   "cell_type": "code",
   "execution_count": 40,
   "metadata": {},
   "outputs": [
    {
     "data": {
      "text/plain": [
       "97"
      ]
     },
     "execution_count": 40,
     "metadata": {},
     "output_type": "execute_result"
    }
   ],
   "source": [
    "all_stream_info[\"closeBy\"].isnull().sum()"
   ]
  },
  {
   "cell_type": "code",
   "execution_count": 45,
   "metadata": {},
   "outputs": [
    {
     "data": {
      "image/png": "[encoded data removed]",
      "text/plain": [
       "<Figure size 1440x720 with 1 Axes>"
      ]
     },
     "metadata": {
      "needs_background": "light"
     },
     "output_type": "display_data"
    }
   ],
   "source": [
    "plt.figure(figsize=(20,10))\n",
    "all_stream_info[\"closeBy\"].value_counts().plot.bar()\n",
    "plt.show()"
   ]
  },
  {
   "cell_type": "code",
   "execution_count": 46,
   "metadata": {},
   "outputs": [
    {
     "data": {
      "text/plain": [
       "0    normalEnd\n",
       "dtype: object"
      ]
     },
     "execution_count": 46,
     "metadata": {},
     "output_type": "execute_result"
    }
   ],
   "source": [
    "all_stream_info[\"closeBy\"].mode()"
   ]
  },
  {
   "cell_type": "code",
   "execution_count": 49,
   "metadata": {},
   "outputs": [],
   "source": [
    "all_stream_info[\"closeBy\"].fillna('normalEnd',inplace = True)"
   ]
  },
  {
   "cell_type": "code",
   "execution_count": 50,
   "metadata": {},
   "outputs": [
    {
     "data": {
      "text/plain": [
       "0"
      ]
     },
     "execution_count": 50,
     "metadata": {},
     "output_type": "execute_result"
    }
   ],
   "source": [
    "all_stream_info[\"closeBy\"].isnull().sum()"
   ]
  },
  {
   "cell_type": "code",
   "execution_count": 51,
   "metadata": {},
   "outputs": [
    {
     "data": {
      "text/plain": [
       "0.4161372299872935"
      ]
     },
     "execution_count": 51,
     "metadata": {},
     "output_type": "execute_result"
    }
   ],
   "source": [
    "all_stream_info[\"maxLiveViewerTime\"].isnull().mean()"
   ]
  },
  {
   "cell_type": "code",
   "execution_count": 52,
   "metadata": {},
   "outputs": [
    {
     "data": {
      "text/plain": [
       "1310"
      ]
     },
     "execution_count": 52,
     "metadata": {},
     "output_type": "execute_result"
    }
   ],
   "source": [
    "all_stream_info[\"maxLiveViewerTime\"].isnull().sum()"
   ]
  },
  {
   "cell_type": "code",
   "execution_count": 57,
   "metadata": {},
   "outputs": [
    {
     "data": {
      "text/plain": [
       "0       2020-06-15 00:15:33.442 UTC\n",
       "1       2020-06-15 00:21:43.015 UTC\n",
       "2       2020-06-15 00:30:03.571 UTC\n",
       "3       2020-06-15 00:32:51.494 UTC\n",
       "4       2020-06-15 00:34:21.276 UTC\n",
       "                   ...             \n",
       "1833    2020-06-22 16:45:19.952 UTC\n",
       "1834    2020-06-22 17:04:12.298 UTC\n",
       "1835    2020-06-22 17:19:39.697 UTC\n",
       "1836    2020-06-22 17:19:48.148 UTC\n",
       "1837    2020-06-22 19:07:52.872 UTC\n",
       "Length: 1838, dtype: object"
      ]
     },
     "execution_count": 57,
     "metadata": {},
     "output_type": "execute_result"
    }
   ],
   "source": [
    "all_stream_info[\"maxLiveViewerTime\"].mode()"
   ]
  },
  {
   "cell_type": "code",
   "execution_count": null,
   "metadata": {},
   "outputs": [],
   "source": []
  },
  {
   "cell_type": "code",
   "execution_count": null,
   "metadata": {},
   "outputs": [],
   "source": []
  },
  {
   "cell_type": "markdown",
   "metadata": {},
   "source": [
    "## Handling Numerical values"
   ]
  },
  {
   "cell_type": "markdown",
   "metadata": {},
   "source": [
    "### 'cultureGroup', 'isContracted', 'avgViewerDuration' in these columns there is null values "
   ]
  },
  {
   "cell_type": "code",
   "execution_count": 58,
   "metadata": {},
   "outputs": [
    {
     "data": {
      "text/plain": [
       "3148"
      ]
     },
     "execution_count": 58,
     "metadata": {},
     "output_type": "execute_result"
    }
   ],
   "source": [
    "all_stream_info[\"cultureGroup\"].isnull().sum()"
   ]
  },
  {
   "cell_type": "code",
   "execution_count": 59,
   "metadata": {},
   "outputs": [
    {
     "data": {
      "text/plain": [
       "1.0"
      ]
     },
     "execution_count": 59,
     "metadata": {},
     "output_type": "execute_result"
    }
   ],
   "source": [
    "all_stream_info[\"cultureGroup\"].isnull().mean()"
   ]
  },
  {
   "cell_type": "code",
   "execution_count": 60,
   "metadata": {},
   "outputs": [
    {
     "data": {
      "text/plain": [
       "3148"
      ]
     },
     "execution_count": 60,
     "metadata": {},
     "output_type": "execute_result"
    }
   ],
   "source": [
    "all_stream_info[\"isContracted\"].isnull().sum()"
   ]
  },
  {
   "cell_type": "code",
   "execution_count": 61,
   "metadata": {},
   "outputs": [
    {
     "data": {
      "text/plain": [
       "1.0"
      ]
     },
     "execution_count": 61,
     "metadata": {},
     "output_type": "execute_result"
    }
   ],
   "source": [
    "all_stream_info[\"isContracted\"].isnull().mean()"
   ]
  },
  {
   "cell_type": "code",
   "execution_count": 62,
   "metadata": {},
   "outputs": [
    {
     "data": {
      "text/plain": [
       "1459"
      ]
     },
     "execution_count": 62,
     "metadata": {},
     "output_type": "execute_result"
    }
   ],
   "source": [
    "#avgViewerDuration\n",
    "all_stream_info[\"avgViewerDuration\"].isnull().sum()"
   ]
  },
  {
   "cell_type": "code",
   "execution_count": 63,
   "metadata": {},
   "outputs": [
    {
     "data": {
      "text/plain": [
       "0.46346886912325286"
      ]
     },
     "execution_count": 63,
     "metadata": {},
     "output_type": "execute_result"
    }
   ],
   "source": [
    "all_stream_info[\"avgViewerDuration\"].isnull().mean()"
   ]
  },
  {
   "cell_type": "code",
   "execution_count": 64,
   "metadata": {},
   "outputs": [
    {
     "data": {
      "text/plain": [
       "0    7.0\n",
       "dtype: float64"
      ]
     },
     "execution_count": 64,
     "metadata": {},
     "output_type": "execute_result"
    }
   ],
   "source": [
    "all_stream_info[\"avgViewerDuration\"].mode()"
   ]
  },
  {
   "cell_type": "code",
   "execution_count": 65,
   "metadata": {},
   "outputs": [
    {
     "data": {
      "text/plain": [
       "241.04946714031965"
      ]
     },
     "execution_count": 65,
     "metadata": {},
     "output_type": "execute_result"
    }
   ],
   "source": [
    "all_stream_info[\"avgViewerDuration\"].mean()"
   ]
  },
  {
   "cell_type": "code",
   "execution_count": 67,
   "metadata": {},
   "outputs": [],
   "source": [
    "all_stream_info[\"avgViewerDuration\"].fillna(7,inplace = True)"
   ]
  },
  {
   "cell_type": "code",
   "execution_count": 68,
   "metadata": {},
   "outputs": [
    {
     "data": {
      "text/plain": [
       "0"
      ]
     },
     "execution_count": 68,
     "metadata": {},
     "output_type": "execute_result"
    }
   ],
   "source": [
    "all_stream_info[\"avgViewerDuration\"].isnull().sum()"
   ]
  },
  {
   "cell_type": "code",
   "execution_count": 69,
   "metadata": {},
   "outputs": [
    {
     "data": {
      "text/html": [
       "<div>\n",
       "<style scoped>\n",
       "    .dataframe tbody tr th:only-of-type {\n",
       "        vertical-align: middle;\n",
       "    }\n",
       "\n",
       "    .dataframe tbody tr th {\n",
       "        vertical-align: top;\n",
       "    }\n",
       "\n",
       "    .dataframe thead th {\n",
       "        text-align: right;\n",
       "    }\n",
       "</style>\n",
       "<table border=\"1\" class=\"dataframe\">\n",
       "  <thead>\n",
       "    <tr style=\"text-align: right;\">\n",
       "      <th></th>\n",
       "      <th>liveStreamID</th>\n",
       "      <th>beginTime</th>\n",
       "      <th>endTime</th>\n",
       "      <th>duration</th>\n",
       "      <th>closeBy</th>\n",
       "      <th>maxLiveViewerCount</th>\n",
       "      <th>maxLiveViewerTime</th>\n",
       "      <th>privateLiveStream</th>\n",
       "      <th>receivedLikeCount</th>\n",
       "      <th>streamerType</th>\n",
       "      <th>...</th>\n",
       "      <th>isContracted</th>\n",
       "      <th>uniqueViewerCount</th>\n",
       "      <th>ios</th>\n",
       "      <th>android</th>\n",
       "      <th>durationGTE5sec</th>\n",
       "      <th>durationGTE2min</th>\n",
       "      <th>durationGTE10min</th>\n",
       "      <th>avgViewerDuration</th>\n",
       "      <th>count</th>\n",
       "      <th>receivePointEstimated</th>\n",
       "    </tr>\n",
       "  </thead>\n",
       "  <tbody>\n",
       "    <tr>\n",
       "      <td>0</td>\n",
       "      <td>109437538</td>\n",
       "      <td>2020-06-22 11:55:21 UTC</td>\n",
       "      <td>2020-06-22 16:37:19 UTC</td>\n",
       "      <td>16918</td>\n",
       "      <td>normalEnd</td>\n",
       "      <td>363</td>\n",
       "      <td>2020-06-22 16:28:17.87 UTC</td>\n",
       "      <td>0</td>\n",
       "      <td>11092</td>\n",
       "      <td>0</td>\n",
       "      <td>...</td>\n",
       "      <td>NaN</td>\n",
       "      <td>779</td>\n",
       "      <td>46</td>\n",
       "      <td>30</td>\n",
       "      <td>68</td>\n",
       "      <td>17</td>\n",
       "      <td>13</td>\n",
       "      <td>424.32</td>\n",
       "      <td>1108</td>\n",
       "      <td>13105</td>\n",
       "    </tr>\n",
       "    <tr>\n",
       "      <td>1</td>\n",
       "      <td>109441785</td>\n",
       "      <td>2020-06-22 14:55:26 UTC</td>\n",
       "      <td>2020-06-22 21:31:19 UTC</td>\n",
       "      <td>23753</td>\n",
       "      <td>normalEnd</td>\n",
       "      <td>100</td>\n",
       "      <td>2020-06-22 19:07:52.872 UTC</td>\n",
       "      <td>0</td>\n",
       "      <td>772</td>\n",
       "      <td>0</td>\n",
       "      <td>...</td>\n",
       "      <td>NaN</td>\n",
       "      <td>821</td>\n",
       "      <td>54</td>\n",
       "      <td>38</td>\n",
       "      <td>68</td>\n",
       "      <td>20</td>\n",
       "      <td>8</td>\n",
       "      <td>186.28</td>\n",
       "      <td>2318</td>\n",
       "      <td>90701</td>\n",
       "    </tr>\n",
       "    <tr>\n",
       "      <td>2</td>\n",
       "      <td>109438205</td>\n",
       "      <td>2020-06-22 12:20:34 UTC</td>\n",
       "      <td>2020-06-22 16:02:46 UTC</td>\n",
       "      <td>13332</td>\n",
       "      <td>disconnect</td>\n",
       "      <td>471</td>\n",
       "      <td>2020-06-22 14:53:26.692 UTC</td>\n",
       "      <td>0</td>\n",
       "      <td>19403</td>\n",
       "      <td>0</td>\n",
       "      <td>...</td>\n",
       "      <td>NaN</td>\n",
       "      <td>1605</td>\n",
       "      <td>529</td>\n",
       "      <td>223</td>\n",
       "      <td>696</td>\n",
       "      <td>60</td>\n",
       "      <td>17</td>\n",
       "      <td>81.14</td>\n",
       "      <td>1199</td>\n",
       "      <td>222376</td>\n",
       "    </tr>\n",
       "    <tr>\n",
       "      <td>3</td>\n",
       "      <td>109438917</td>\n",
       "      <td>2020-06-22 12:54:21 UTC</td>\n",
       "      <td>2020-06-22 14:47:27 UTC</td>\n",
       "      <td>6786</td>\n",
       "      <td>normalEnd</td>\n",
       "      <td>44</td>\n",
       "      <td>2020-06-22 14:29:13.806 UTC</td>\n",
       "      <td>0</td>\n",
       "      <td>191</td>\n",
       "      <td>0</td>\n",
       "      <td>...</td>\n",
       "      <td>NaN</td>\n",
       "      <td>96</td>\n",
       "      <td>23</td>\n",
       "      <td>24</td>\n",
       "      <td>41</td>\n",
       "      <td>12</td>\n",
       "      <td>8</td>\n",
       "      <td>389.91</td>\n",
       "      <td>432</td>\n",
       "      <td>4313</td>\n",
       "    </tr>\n",
       "    <tr>\n",
       "      <td>4</td>\n",
       "      <td>109442185</td>\n",
       "      <td>2020-06-22 15:18:20 UTC</td>\n",
       "      <td>2020-06-22 15:48:02 UTC</td>\n",
       "      <td>1782</td>\n",
       "      <td>normalEnd</td>\n",
       "      <td>52</td>\n",
       "      <td>2020-06-22 15:42:33.849 UTC</td>\n",
       "      <td>0</td>\n",
       "      <td>77</td>\n",
       "      <td>0</td>\n",
       "      <td>...</td>\n",
       "      <td>NaN</td>\n",
       "      <td>109</td>\n",
       "      <td>20</td>\n",
       "      <td>18</td>\n",
       "      <td>38</td>\n",
       "      <td>17</td>\n",
       "      <td>5</td>\n",
       "      <td>222.76</td>\n",
       "      <td>162</td>\n",
       "      <td>1547</td>\n",
       "    </tr>\n",
       "  </tbody>\n",
       "</table>\n",
       "<p>5 rows × 24 columns</p>\n",
       "</div>"
      ],
      "text/plain": [
       "   liveStreamID                beginTime                  endTime  duration  \\\n",
       "0     109437538  2020-06-22 11:55:21 UTC  2020-06-22 16:37:19 UTC     16918   \n",
       "1     109441785  2020-06-22 14:55:26 UTC  2020-06-22 21:31:19 UTC     23753   \n",
       "2     109438205  2020-06-22 12:20:34 UTC  2020-06-22 16:02:46 UTC     13332   \n",
       "3     109438917  2020-06-22 12:54:21 UTC  2020-06-22 14:47:27 UTC      6786   \n",
       "4     109442185  2020-06-22 15:18:20 UTC  2020-06-22 15:48:02 UTC      1782   \n",
       "\n",
       "      closeBy  maxLiveViewerCount            maxLiveViewerTime  \\\n",
       "0   normalEnd                 363   2020-06-22 16:28:17.87 UTC   \n",
       "1   normalEnd                 100  2020-06-22 19:07:52.872 UTC   \n",
       "2  disconnect                 471  2020-06-22 14:53:26.692 UTC   \n",
       "3   normalEnd                  44  2020-06-22 14:29:13.806 UTC   \n",
       "4   normalEnd                  52  2020-06-22 15:42:33.849 UTC   \n",
       "\n",
       "   privateLiveStream  receivedLikeCount  streamerType  ...  isContracted  \\\n",
       "0                  0              11092             0  ...           NaN   \n",
       "1                  0                772             0  ...           NaN   \n",
       "2                  0              19403             0  ...           NaN   \n",
       "3                  0                191             0  ...           NaN   \n",
       "4                  0                 77             0  ...           NaN   \n",
       "\n",
       "   uniqueViewerCount  ios android  durationGTE5sec  durationGTE2min  \\\n",
       "0                779   46      30               68               17   \n",
       "1                821   54      38               68               20   \n",
       "2               1605  529     223              696               60   \n",
       "3                 96   23      24               41               12   \n",
       "4                109   20      18               38               17   \n",
       "\n",
       "   durationGTE10min  avgViewerDuration  count  receivePointEstimated  \n",
       "0                13             424.32   1108                  13105  \n",
       "1                 8             186.28   2318                  90701  \n",
       "2                17              81.14   1199                 222376  \n",
       "3                 8             389.91    432                   4313  \n",
       "4                 5             222.76    162                   1547  \n",
       "\n",
       "[5 rows x 24 columns]"
      ]
     },
     "execution_count": 69,
     "metadata": {},
     "output_type": "execute_result"
    }
   ],
   "source": [
    "all_stream_info.head()"
   ]
  },
  {
   "cell_type": "code",
   "execution_count": 72,
   "metadata": {},
   "outputs": [
    {
     "data": {
      "text/plain": [
       "Index(['liveStreamID', 'beginTime', 'endTime', 'duration', 'closeBy',\n",
       "       'maxLiveViewerCount', 'maxLiveViewerTime', 'privateLiveStream',\n",
       "       'receivedLikeCount', 'streamerType', 'isShow', 'cultureGroup', 'userID',\n",
       "       'registerCountry', 'isContracted', 'uniqueViewerCount', 'ios',\n",
       "       'android', 'durationGTE5sec', 'durationGTE2min', 'durationGTE10min',\n",
       "       'avgViewerDuration', 'count', 'receivePointEstimated'],\n",
       "      dtype='object')"
      ]
     },
     "execution_count": 72,
     "metadata": {},
     "output_type": "execute_result"
    }
   ],
   "source": [
    "all_stream_info.columns"
   ]
  },
  {
   "cell_type": "code",
   "execution_count": 76,
   "metadata": {},
   "outputs": [],
   "source": [
    "all_stream_info.drop(['beginTime', 'endTime','maxLiveViewerTime','cultureGroup','isContracted'], axis = 1,inplace=True)"
   ]
  },
  {
   "cell_type": "code",
   "execution_count": 77,
   "metadata": {},
   "outputs": [
    {
     "data": {
      "text/html": [
       "<div>\n",
       "<style scoped>\n",
       "    .dataframe tbody tr th:only-of-type {\n",
       "        vertical-align: middle;\n",
       "    }\n",
       "\n",
       "    .dataframe tbody tr th {\n",
       "        vertical-align: top;\n",
       "    }\n",
       "\n",
       "    .dataframe thead th {\n",
       "        text-align: right;\n",
       "    }\n",
       "</style>\n",
       "<table border=\"1\" class=\"dataframe\">\n",
       "  <thead>\n",
       "    <tr style=\"text-align: right;\">\n",
       "      <th></th>\n",
       "      <th>liveStreamID</th>\n",
       "      <th>duration</th>\n",
       "      <th>closeBy</th>\n",
       "      <th>maxLiveViewerCount</th>\n",
       "      <th>privateLiveStream</th>\n",
       "      <th>receivedLikeCount</th>\n",
       "      <th>streamerType</th>\n",
       "      <th>isShow</th>\n",
       "      <th>userID</th>\n",
       "      <th>registerCountry</th>\n",
       "      <th>uniqueViewerCount</th>\n",
       "      <th>ios</th>\n",
       "      <th>android</th>\n",
       "      <th>durationGTE5sec</th>\n",
       "      <th>durationGTE2min</th>\n",
       "      <th>durationGTE10min</th>\n",
       "      <th>avgViewerDuration</th>\n",
       "      <th>count</th>\n",
       "      <th>receivePointEstimated</th>\n",
       "    </tr>\n",
       "  </thead>\n",
       "  <tbody>\n",
       "    <tr>\n",
       "      <td>0</td>\n",
       "      <td>109437538</td>\n",
       "      <td>16918</td>\n",
       "      <td>normalEnd</td>\n",
       "      <td>363</td>\n",
       "      <td>0</td>\n",
       "      <td>11092</td>\n",
       "      <td>0</td>\n",
       "      <td>False</td>\n",
       "      <td>63a8b9eb-c4a6-4ff6-8aaa-5f4c6f6fd4d7</td>\n",
       "      <td>United States</td>\n",
       "      <td>779</td>\n",
       "      <td>46</td>\n",
       "      <td>30</td>\n",
       "      <td>68</td>\n",
       "      <td>17</td>\n",
       "      <td>13</td>\n",
       "      <td>424.32</td>\n",
       "      <td>1108</td>\n",
       "      <td>13105</td>\n",
       "    </tr>\n",
       "    <tr>\n",
       "      <td>1</td>\n",
       "      <td>109441785</td>\n",
       "      <td>23753</td>\n",
       "      <td>normalEnd</td>\n",
       "      <td>100</td>\n",
       "      <td>0</td>\n",
       "      <td>772</td>\n",
       "      <td>0</td>\n",
       "      <td>False</td>\n",
       "      <td>6cd90016-b679-4a7b-8cc6-2c43d4590cca</td>\n",
       "      <td>United States</td>\n",
       "      <td>821</td>\n",
       "      <td>54</td>\n",
       "      <td>38</td>\n",
       "      <td>68</td>\n",
       "      <td>20</td>\n",
       "      <td>8</td>\n",
       "      <td>186.28</td>\n",
       "      <td>2318</td>\n",
       "      <td>90701</td>\n",
       "    </tr>\n",
       "    <tr>\n",
       "      <td>2</td>\n",
       "      <td>109438205</td>\n",
       "      <td>13332</td>\n",
       "      <td>disconnect</td>\n",
       "      <td>471</td>\n",
       "      <td>0</td>\n",
       "      <td>19403</td>\n",
       "      <td>0</td>\n",
       "      <td>False</td>\n",
       "      <td>e4f04b19-ad3e-4c9d-7f29-6a2f6c93c842</td>\n",
       "      <td>United States</td>\n",
       "      <td>1605</td>\n",
       "      <td>529</td>\n",
       "      <td>223</td>\n",
       "      <td>696</td>\n",
       "      <td>60</td>\n",
       "      <td>17</td>\n",
       "      <td>81.14</td>\n",
       "      <td>1199</td>\n",
       "      <td>222376</td>\n",
       "    </tr>\n",
       "    <tr>\n",
       "      <td>3</td>\n",
       "      <td>109438917</td>\n",
       "      <td>6786</td>\n",
       "      <td>normalEnd</td>\n",
       "      <td>44</td>\n",
       "      <td>0</td>\n",
       "      <td>191</td>\n",
       "      <td>0</td>\n",
       "      <td>False</td>\n",
       "      <td>b4dc876b-06fe-48b2-a40b-fa7f5007697a</td>\n",
       "      <td>United States</td>\n",
       "      <td>96</td>\n",
       "      <td>23</td>\n",
       "      <td>24</td>\n",
       "      <td>41</td>\n",
       "      <td>12</td>\n",
       "      <td>8</td>\n",
       "      <td>389.91</td>\n",
       "      <td>432</td>\n",
       "      <td>4313</td>\n",
       "    </tr>\n",
       "    <tr>\n",
       "      <td>4</td>\n",
       "      <td>109442185</td>\n",
       "      <td>1782</td>\n",
       "      <td>normalEnd</td>\n",
       "      <td>52</td>\n",
       "      <td>0</td>\n",
       "      <td>77</td>\n",
       "      <td>0</td>\n",
       "      <td>False</td>\n",
       "      <td>8258d28e-47b9-4ce8-a765-29175b663a1d</td>\n",
       "      <td>United States</td>\n",
       "      <td>109</td>\n",
       "      <td>20</td>\n",
       "      <td>18</td>\n",
       "      <td>38</td>\n",
       "      <td>17</td>\n",
       "      <td>5</td>\n",
       "      <td>222.76</td>\n",
       "      <td>162</td>\n",
       "      <td>1547</td>\n",
       "    </tr>\n",
       "  </tbody>\n",
       "</table>\n",
       "</div>"
      ],
      "text/plain": [
       "   liveStreamID  duration     closeBy  maxLiveViewerCount  privateLiveStream  \\\n",
       "0     109437538     16918   normalEnd                 363                  0   \n",
       "1     109441785     23753   normalEnd                 100                  0   \n",
       "2     109438205     13332  disconnect                 471                  0   \n",
       "3     109438917      6786   normalEnd                  44                  0   \n",
       "4     109442185      1782   normalEnd                  52                  0   \n",
       "\n",
       "   receivedLikeCount  streamerType  isShow  \\\n",
       "0              11092             0   False   \n",
       "1                772             0   False   \n",
       "2              19403             0   False   \n",
       "3                191             0   False   \n",
       "4                 77             0   False   \n",
       "\n",
       "                                 userID registerCountry  uniqueViewerCount  \\\n",
       "0  63a8b9eb-c4a6-4ff6-8aaa-5f4c6f6fd4d7   United States                779   \n",
       "1  6cd90016-b679-4a7b-8cc6-2c43d4590cca   United States                821   \n",
       "2  e4f04b19-ad3e-4c9d-7f29-6a2f6c93c842   United States               1605   \n",
       "3  b4dc876b-06fe-48b2-a40b-fa7f5007697a   United States                 96   \n",
       "4  8258d28e-47b9-4ce8-a765-29175b663a1d   United States                109   \n",
       "\n",
       "   ios  android  durationGTE5sec  durationGTE2min  durationGTE10min  \\\n",
       "0   46       30               68               17                13   \n",
       "1   54       38               68               20                 8   \n",
       "2  529      223              696               60                17   \n",
       "3   23       24               41               12                 8   \n",
       "4   20       18               38               17                 5   \n",
       "\n",
       "   avgViewerDuration  count  receivePointEstimated  \n",
       "0             424.32   1108                  13105  \n",
       "1             186.28   2318                  90701  \n",
       "2              81.14   1199                 222376  \n",
       "3             389.91    432                   4313  \n",
       "4             222.76    162                   1547  "
      ]
     },
     "execution_count": 77,
     "metadata": {},
     "output_type": "execute_result"
    }
   ],
   "source": [
    "all_stream_info.head()"
   ]
  },
  {
   "cell_type": "code",
   "execution_count": 78,
   "metadata": {},
   "outputs": [],
   "source": [
    "all_stream_info.to_csv(\"updated_csv.csv\")"
   ]
  },
  {
   "cell_type": "markdown",
   "metadata": {},
   "source": [
    "## We have elliminate some columns which have no use in model building and saved in csv file now uploading that file  in notebook and doing some EDA and moving towards model building "
   ]
  },
  {
   "cell_type": "code",
   "execution_count": 5,
   "metadata": {},
   "outputs": [],
   "source": [
    "data = pd.read_csv(\"updated_csv.csv\")"
   ]
  },
  {
   "cell_type": "code",
   "execution_count": 6,
   "metadata": {},
   "outputs": [
    {
     "data": {
      "text/html": [
       "<div>\n",
       "<style scoped>\n",
       "    .dataframe tbody tr th:only-of-type {\n",
       "        vertical-align: middle;\n",
       "    }\n",
       "\n",
       "    .dataframe tbody tr th {\n",
       "        vertical-align: top;\n",
       "    }\n",
       "\n",
       "    .dataframe thead th {\n",
       "        text-align: right;\n",
       "    }\n",
       "</style>\n",
       "<table border=\"1\" class=\"dataframe\">\n",
       "  <thead>\n",
       "    <tr style=\"text-align: right;\">\n",
       "      <th></th>\n",
       "      <th>Unnamed: 0</th>\n",
       "      <th>liveStreamID</th>\n",
       "      <th>duration</th>\n",
       "      <th>closeBy</th>\n",
       "      <th>maxLiveViewerCount</th>\n",
       "      <th>privateLiveStream</th>\n",
       "      <th>receivedLikeCount</th>\n",
       "      <th>streamerType</th>\n",
       "      <th>isShow</th>\n",
       "      <th>userID</th>\n",
       "      <th>registerCountry</th>\n",
       "      <th>uniqueViewerCount</th>\n",
       "      <th>ios</th>\n",
       "      <th>android</th>\n",
       "      <th>durationGTE5sec</th>\n",
       "      <th>durationGTE2min</th>\n",
       "      <th>durationGTE10min</th>\n",
       "      <th>avgViewerDuration</th>\n",
       "      <th>count</th>\n",
       "      <th>receivePointEstimated</th>\n",
       "    </tr>\n",
       "  </thead>\n",
       "  <tbody>\n",
       "    <tr>\n",
       "      <td>0</td>\n",
       "      <td>0</td>\n",
       "      <td>109437538</td>\n",
       "      <td>16918</td>\n",
       "      <td>normalEnd</td>\n",
       "      <td>363</td>\n",
       "      <td>0</td>\n",
       "      <td>11092</td>\n",
       "      <td>0</td>\n",
       "      <td>False</td>\n",
       "      <td>63a8b9eb-c4a6-4ff6-8aaa-5f4c6f6fd4d7</td>\n",
       "      <td>United States</td>\n",
       "      <td>779</td>\n",
       "      <td>46</td>\n",
       "      <td>30</td>\n",
       "      <td>68</td>\n",
       "      <td>17</td>\n",
       "      <td>13</td>\n",
       "      <td>424.32</td>\n",
       "      <td>1108</td>\n",
       "      <td>13105</td>\n",
       "    </tr>\n",
       "    <tr>\n",
       "      <td>1</td>\n",
       "      <td>1</td>\n",
       "      <td>109441785</td>\n",
       "      <td>23753</td>\n",
       "      <td>normalEnd</td>\n",
       "      <td>100</td>\n",
       "      <td>0</td>\n",
       "      <td>772</td>\n",
       "      <td>0</td>\n",
       "      <td>False</td>\n",
       "      <td>6cd90016-b679-4a7b-8cc6-2c43d4590cca</td>\n",
       "      <td>United States</td>\n",
       "      <td>821</td>\n",
       "      <td>54</td>\n",
       "      <td>38</td>\n",
       "      <td>68</td>\n",
       "      <td>20</td>\n",
       "      <td>8</td>\n",
       "      <td>186.28</td>\n",
       "      <td>2318</td>\n",
       "      <td>90701</td>\n",
       "    </tr>\n",
       "    <tr>\n",
       "      <td>2</td>\n",
       "      <td>2</td>\n",
       "      <td>109438205</td>\n",
       "      <td>13332</td>\n",
       "      <td>disconnect</td>\n",
       "      <td>471</td>\n",
       "      <td>0</td>\n",
       "      <td>19403</td>\n",
       "      <td>0</td>\n",
       "      <td>False</td>\n",
       "      <td>e4f04b19-ad3e-4c9d-7f29-6a2f6c93c842</td>\n",
       "      <td>United States</td>\n",
       "      <td>1605</td>\n",
       "      <td>529</td>\n",
       "      <td>223</td>\n",
       "      <td>696</td>\n",
       "      <td>60</td>\n",
       "      <td>17</td>\n",
       "      <td>81.14</td>\n",
       "      <td>1199</td>\n",
       "      <td>222376</td>\n",
       "    </tr>\n",
       "    <tr>\n",
       "      <td>3</td>\n",
       "      <td>3</td>\n",
       "      <td>109438917</td>\n",
       "      <td>6786</td>\n",
       "      <td>normalEnd</td>\n",
       "      <td>44</td>\n",
       "      <td>0</td>\n",
       "      <td>191</td>\n",
       "      <td>0</td>\n",
       "      <td>False</td>\n",
       "      <td>b4dc876b-06fe-48b2-a40b-fa7f5007697a</td>\n",
       "      <td>United States</td>\n",
       "      <td>96</td>\n",
       "      <td>23</td>\n",
       "      <td>24</td>\n",
       "      <td>41</td>\n",
       "      <td>12</td>\n",
       "      <td>8</td>\n",
       "      <td>389.91</td>\n",
       "      <td>432</td>\n",
       "      <td>4313</td>\n",
       "    </tr>\n",
       "    <tr>\n",
       "      <td>4</td>\n",
       "      <td>4</td>\n",
       "      <td>109442185</td>\n",
       "      <td>1782</td>\n",
       "      <td>normalEnd</td>\n",
       "      <td>52</td>\n",
       "      <td>0</td>\n",
       "      <td>77</td>\n",
       "      <td>0</td>\n",
       "      <td>False</td>\n",
       "      <td>8258d28e-47b9-4ce8-a765-29175b663a1d</td>\n",
       "      <td>United States</td>\n",
       "      <td>109</td>\n",
       "      <td>20</td>\n",
       "      <td>18</td>\n",
       "      <td>38</td>\n",
       "      <td>17</td>\n",
       "      <td>5</td>\n",
       "      <td>222.76</td>\n",
       "      <td>162</td>\n",
       "      <td>1547</td>\n",
       "    </tr>\n",
       "  </tbody>\n",
       "</table>\n",
       "</div>"
      ],
      "text/plain": [
       "   Unnamed: 0  liveStreamID  duration     closeBy  maxLiveViewerCount  \\\n",
       "0           0     109437538     16918   normalEnd                 363   \n",
       "1           1     109441785     23753   normalEnd                 100   \n",
       "2           2     109438205     13332  disconnect                 471   \n",
       "3           3     109438917      6786   normalEnd                  44   \n",
       "4           4     109442185      1782   normalEnd                  52   \n",
       "\n",
       "   privateLiveStream  receivedLikeCount  streamerType  isShow  \\\n",
       "0                  0              11092             0   False   \n",
       "1                  0                772             0   False   \n",
       "2                  0              19403             0   False   \n",
       "3                  0                191             0   False   \n",
       "4                  0                 77             0   False   \n",
       "\n",
       "                                 userID registerCountry  uniqueViewerCount  \\\n",
       "0  63a8b9eb-c4a6-4ff6-8aaa-5f4c6f6fd4d7   United States                779   \n",
       "1  6cd90016-b679-4a7b-8cc6-2c43d4590cca   United States                821   \n",
       "2  e4f04b19-ad3e-4c9d-7f29-6a2f6c93c842   United States               1605   \n",
       "3  b4dc876b-06fe-48b2-a40b-fa7f5007697a   United States                 96   \n",
       "4  8258d28e-47b9-4ce8-a765-29175b663a1d   United States                109   \n",
       "\n",
       "   ios  android  durationGTE5sec  durationGTE2min  durationGTE10min  \\\n",
       "0   46       30               68               17                13   \n",
       "1   54       38               68               20                 8   \n",
       "2  529      223              696               60                17   \n",
       "3   23       24               41               12                 8   \n",
       "4   20       18               38               17                 5   \n",
       "\n",
       "   avgViewerDuration  count  receivePointEstimated  \n",
       "0             424.32   1108                  13105  \n",
       "1             186.28   2318                  90701  \n",
       "2              81.14   1199                 222376  \n",
       "3             389.91    432                   4313  \n",
       "4             222.76    162                   1547  "
      ]
     },
     "execution_count": 6,
     "metadata": {},
     "output_type": "execute_result"
    }
   ],
   "source": [
    "data.head()"
   ]
  },
  {
   "cell_type": "code",
   "execution_count": 7,
   "metadata": {},
   "outputs": [
    {
     "data": {
      "text/plain": [
       "count      3148.000000\n",
       "mean       3495.864041\n",
       "std        6651.916426\n",
       "min           0.000000\n",
       "25%         136.750000\n",
       "50%        1032.500000\n",
       "75%        4801.500000\n",
       "max      121258.000000\n",
       "Name: duration, dtype: float64"
      ]
     },
     "execution_count": 7,
     "metadata": {},
     "output_type": "execute_result"
    }
   ],
   "source": [
    "data['duration'].describe()"
   ]
  },
  {
   "cell_type": "code",
   "execution_count": 8,
   "metadata": {},
   "outputs": [
    {
     "data": {
      "text/html": [
       "<div>\n",
       "<style scoped>\n",
       "    .dataframe tbody tr th:only-of-type {\n",
       "        vertical-align: middle;\n",
       "    }\n",
       "\n",
       "    .dataframe tbody tr th {\n",
       "        vertical-align: top;\n",
       "    }\n",
       "\n",
       "    .dataframe thead th {\n",
       "        text-align: right;\n",
       "    }\n",
       "</style>\n",
       "<table border=\"1\" class=\"dataframe\">\n",
       "  <thead>\n",
       "    <tr style=\"text-align: right;\">\n",
       "      <th></th>\n",
       "      <th>Unnamed: 0</th>\n",
       "      <th>liveStreamID</th>\n",
       "      <th>duration</th>\n",
       "      <th>maxLiveViewerCount</th>\n",
       "      <th>privateLiveStream</th>\n",
       "      <th>receivedLikeCount</th>\n",
       "      <th>streamerType</th>\n",
       "      <th>uniqueViewerCount</th>\n",
       "      <th>ios</th>\n",
       "      <th>android</th>\n",
       "      <th>durationGTE5sec</th>\n",
       "      <th>durationGTE2min</th>\n",
       "      <th>durationGTE10min</th>\n",
       "      <th>avgViewerDuration</th>\n",
       "      <th>count</th>\n",
       "      <th>receivePointEstimated</th>\n",
       "    </tr>\n",
       "  </thead>\n",
       "  <tbody>\n",
       "    <tr>\n",
       "      <td>count</td>\n",
       "      <td>3148.00000</td>\n",
       "      <td>3.148000e+03</td>\n",
       "      <td>3148.000000</td>\n",
       "      <td>3148.000000</td>\n",
       "      <td>3148.0</td>\n",
       "      <td>3148.000000</td>\n",
       "      <td>3148.0</td>\n",
       "      <td>3148.000000</td>\n",
       "      <td>3148.000000</td>\n",
       "      <td>3148.000000</td>\n",
       "      <td>3148.000000</td>\n",
       "      <td>3148.000000</td>\n",
       "      <td>3148.000000</td>\n",
       "      <td>3148.000000</td>\n",
       "      <td>3148.000000</td>\n",
       "      <td>3.148000e+03</td>\n",
       "    </tr>\n",
       "    <tr>\n",
       "      <td>mean</td>\n",
       "      <td>1573.50000</td>\n",
       "      <td>1.093797e+08</td>\n",
       "      <td>3495.864041</td>\n",
       "      <td>15.416773</td>\n",
       "      <td>0.0</td>\n",
       "      <td>358.428526</td>\n",
       "      <td>0.0</td>\n",
       "      <td>55.416773</td>\n",
       "      <td>26.285896</td>\n",
       "      <td>20.519377</td>\n",
       "      <td>44.560991</td>\n",
       "      <td>8.994917</td>\n",
       "      <td>3.937103</td>\n",
       "      <td>132.574825</td>\n",
       "      <td>126.772872</td>\n",
       "      <td>8.874376e+03</td>\n",
       "    </tr>\n",
       "    <tr>\n",
       "      <td>std</td>\n",
       "      <td>908.89365</td>\n",
       "      <td>3.381310e+04</td>\n",
       "      <td>6651.916426</td>\n",
       "      <td>45.505183</td>\n",
       "      <td>0.0</td>\n",
       "      <td>2145.579197</td>\n",
       "      <td>0.0</td>\n",
       "      <td>160.855894</td>\n",
       "      <td>81.280647</td>\n",
       "      <td>60.532012</td>\n",
       "      <td>131.896474</td>\n",
       "      <td>26.843270</td>\n",
       "      <td>13.057200</td>\n",
       "      <td>213.669542</td>\n",
       "      <td>330.297666</td>\n",
       "      <td>4.778547e+04</td>\n",
       "    </tr>\n",
       "    <tr>\n",
       "      <td>min</td>\n",
       "      <td>0.00000</td>\n",
       "      <td>1.093211e+08</td>\n",
       "      <td>0.000000</td>\n",
       "      <td>0.000000</td>\n",
       "      <td>0.0</td>\n",
       "      <td>0.000000</td>\n",
       "      <td>0.0</td>\n",
       "      <td>0.000000</td>\n",
       "      <td>0.000000</td>\n",
       "      <td>0.000000</td>\n",
       "      <td>0.000000</td>\n",
       "      <td>0.000000</td>\n",
       "      <td>0.000000</td>\n",
       "      <td>0.000000</td>\n",
       "      <td>0.000000</td>\n",
       "      <td>0.000000e+00</td>\n",
       "    </tr>\n",
       "    <tr>\n",
       "      <td>25%</td>\n",
       "      <td>786.75000</td>\n",
       "      <td>1.093518e+08</td>\n",
       "      <td>136.750000</td>\n",
       "      <td>0.000000</td>\n",
       "      <td>0.0</td>\n",
       "      <td>0.000000</td>\n",
       "      <td>0.0</td>\n",
       "      <td>0.000000</td>\n",
       "      <td>0.000000</td>\n",
       "      <td>0.000000</td>\n",
       "      <td>0.000000</td>\n",
       "      <td>0.000000</td>\n",
       "      <td>0.000000</td>\n",
       "      <td>7.000000</td>\n",
       "      <td>0.000000</td>\n",
       "      <td>0.000000e+00</td>\n",
       "    </tr>\n",
       "    <tr>\n",
       "      <td>50%</td>\n",
       "      <td>1573.50000</td>\n",
       "      <td>1.093835e+08</td>\n",
       "      <td>1032.500000</td>\n",
       "      <td>2.000000</td>\n",
       "      <td>0.0</td>\n",
       "      <td>0.000000</td>\n",
       "      <td>0.0</td>\n",
       "      <td>2.000000</td>\n",
       "      <td>1.000000</td>\n",
       "      <td>0.000000</td>\n",
       "      <td>1.000000</td>\n",
       "      <td>0.000000</td>\n",
       "      <td>0.000000</td>\n",
       "      <td>18.000000</td>\n",
       "      <td>1.000000</td>\n",
       "      <td>0.000000e+00</td>\n",
       "    </tr>\n",
       "    <tr>\n",
       "      <td>75%</td>\n",
       "      <td>2360.25000</td>\n",
       "      <td>1.094082e+08</td>\n",
       "      <td>4801.500000</td>\n",
       "      <td>8.000000</td>\n",
       "      <td>0.0</td>\n",
       "      <td>62.000000</td>\n",
       "      <td>0.0</td>\n",
       "      <td>39.000000</td>\n",
       "      <td>20.000000</td>\n",
       "      <td>11.000000</td>\n",
       "      <td>31.000000</td>\n",
       "      <td>8.000000</td>\n",
       "      <td>3.000000</td>\n",
       "      <td>198.567500</td>\n",
       "      <td>112.250000</td>\n",
       "      <td>1.501500e+03</td>\n",
       "    </tr>\n",
       "    <tr>\n",
       "      <td>max</td>\n",
       "      <td>3147.00000</td>\n",
       "      <td>1.094427e+08</td>\n",
       "      <td>121258.000000</td>\n",
       "      <td>493.000000</td>\n",
       "      <td>0.0</td>\n",
       "      <td>65831.000000</td>\n",
       "      <td>0.0</td>\n",
       "      <td>2385.000000</td>\n",
       "      <td>1639.000000</td>\n",
       "      <td>730.000000</td>\n",
       "      <td>2142.000000</td>\n",
       "      <td>493.000000</td>\n",
       "      <td>302.000000</td>\n",
       "      <td>2855.000000</td>\n",
       "      <td>5342.000000</td>\n",
       "      <td>1.474727e+06</td>\n",
       "    </tr>\n",
       "  </tbody>\n",
       "</table>\n",
       "</div>"
      ],
      "text/plain": [
       "       Unnamed: 0  liveStreamID       duration  maxLiveViewerCount  \\\n",
       "count  3148.00000  3.148000e+03    3148.000000         3148.000000   \n",
       "mean   1573.50000  1.093797e+08    3495.864041           15.416773   \n",
       "std     908.89365  3.381310e+04    6651.916426           45.505183   \n",
       "min       0.00000  1.093211e+08       0.000000            0.000000   \n",
       "25%     786.75000  1.093518e+08     136.750000            0.000000   \n",
       "50%    1573.50000  1.093835e+08    1032.500000            2.000000   \n",
       "75%    2360.25000  1.094082e+08    4801.500000            8.000000   \n",
       "max    3147.00000  1.094427e+08  121258.000000          493.000000   \n",
       "\n",
       "       privateLiveStream  receivedLikeCount  streamerType  uniqueViewerCount  \\\n",
       "count             3148.0        3148.000000        3148.0        3148.000000   \n",
       "mean                 0.0         358.428526           0.0          55.416773   \n",
       "std                  0.0        2145.579197           0.0         160.855894   \n",
       "min                  0.0           0.000000           0.0           0.000000   \n",
       "25%                  0.0           0.000000           0.0           0.000000   \n",
       "50%                  0.0           0.000000           0.0           2.000000   \n",
       "75%                  0.0          62.000000           0.0          39.000000   \n",
       "max                  0.0       65831.000000           0.0        2385.000000   \n",
       "\n",
       "               ios      android  durationGTE5sec  durationGTE2min  \\\n",
       "count  3148.000000  3148.000000      3148.000000      3148.000000   \n",
       "mean     26.285896    20.519377        44.560991         8.994917   \n",
       "std      81.280647    60.532012       131.896474        26.843270   \n",
       "min       0.000000     0.000000         0.000000         0.000000   \n",
       "25%       0.000000     0.000000         0.000000         0.000000   \n",
       "50%       1.000000     0.000000         1.000000         0.000000   \n",
       "75%      20.000000    11.000000        31.000000         8.000000   \n",
       "max    1639.000000   730.000000      2142.000000       493.000000   \n",
       "\n",
       "       durationGTE10min  avgViewerDuration        count  receivePointEstimated  \n",
       "count       3148.000000        3148.000000  3148.000000           3.148000e+03  \n",
       "mean           3.937103         132.574825   126.772872           8.874376e+03  \n",
       "std           13.057200         213.669542   330.297666           4.778547e+04  \n",
       "min            0.000000           0.000000     0.000000           0.000000e+00  \n",
       "25%            0.000000           7.000000     0.000000           0.000000e+00  \n",
       "50%            0.000000          18.000000     1.000000           0.000000e+00  \n",
       "75%            3.000000         198.567500   112.250000           1.501500e+03  \n",
       "max          302.000000        2855.000000  5342.000000           1.474727e+06  "
      ]
     },
     "execution_count": 8,
     "metadata": {},
     "output_type": "execute_result"
    }
   ],
   "source": [
    "data.describe()"
   ]
  },
  {
   "cell_type": "code",
   "execution_count": 9,
   "metadata": {},
   "outputs": [
    {
     "data": {
      "text/plain": [
       "(3148, 20)"
      ]
     },
     "execution_count": 9,
     "metadata": {},
     "output_type": "execute_result"
    }
   ],
   "source": [
    "data.shape"
   ]
  },
  {
   "cell_type": "code",
   "execution_count": 10,
   "metadata": {},
   "outputs": [
    {
     "data": {
      "text/plain": [
       "closeBy\n",
       "Crash                   4\n",
       "Freezed                16\n",
       "Incoming call          65\n",
       "Keep alive failed       1\n",
       "Killed                 21\n",
       "Publish failed          2\n",
       "Upload failed          13\n",
       "disconnect            127\n",
       "end by new stream     129\n",
       "normalEnd            2770\n",
       "dtype: int64"
      ]
     },
     "execution_count": 10,
     "metadata": {},
     "output_type": "execute_result"
    }
   ],
   "source": [
    "data.groupby('closeBy').size()"
   ]
  },
  {
   "cell_type": "code",
   "execution_count": 11,
   "metadata": {},
   "outputs": [
    {
     "data": {
      "image/png": "[encoded data removed]",
      "text/plain": [
       "<Figure size 1440x720 with 1 Axes>"
      ]
     },
     "metadata": {
      "needs_background": "light"
     },
     "output_type": "display_data"
    }
   ],
   "source": [
    "plt.figure(figsize=(20,10))\n",
    "data[\"duration\"].plot(kind='box',subplots=True,layout=(10,10),sharex=False,sharey=False)\n",
    "plt.show()"
   ]
  },
  {
   "cell_type": "code",
   "execution_count": 12,
   "metadata": {},
   "outputs": [
    {
     "data": {
      "image/png": "[encoded data removed]",
      "text/plain": [
       "<Figure size 1440x720 with 1 Axes>"
      ]
     },
     "metadata": {
      "needs_background": "light"
     },
     "output_type": "display_data"
    }
   ],
   "source": [
    "plt.figure(figsize=(20,10))\n",
    "data[\"maxLiveViewerCount\"].plot(kind='box',subplots=True,layout=(10,10),sharex=False,sharey=False)\n",
    "plt.show()"
   ]
  },
  {
   "cell_type": "code",
   "execution_count": null,
   "metadata": {},
   "outputs": [],
   "source": []
  },
  {
   "cell_type": "code",
   "execution_count": 13,
   "metadata": {},
   "outputs": [
    {
     "data": {
      "image/png": "[encoded data removed]",
      "text/plain": [
       "<Figure size 1440x720 with 1 Axes>"
      ]
     },
     "metadata": {
      "needs_background": "light"
     },
     "output_type": "display_data"
    }
   ],
   "source": [
    "plt.figure(figsize=(20,10))\n",
    "data[\"receivedLikeCount\"].plot(kind='box',subplots=True,layout=(10,10),sharex=False,sharey=False)\n",
    "plt.show()"
   ]
  },
  {
   "cell_type": "code",
   "execution_count": 14,
   "metadata": {},
   "outputs": [
    {
     "data": {
      "image/png": "[encoded data removed]",
      "text/plain": [
       "<Figure size 1440x720 with 1 Axes>"
      ]
     },
     "metadata": {
      "needs_background": "light"
     },
     "output_type": "display_data"
    }
   ],
   "source": [
    "plt.figure(figsize=(20,10))\n",
    "data[\"uniqueViewerCount\"].plot(kind='box',subplots=True,layout=(10,10),sharex=False,sharey=False)\n",
    "plt.show()"
   ]
  },
  {
   "cell_type": "code",
   "execution_count": 15,
   "metadata": {},
   "outputs": [
    {
     "data": {
      "image/png": "[encoded data removed]",
      "text/plain": [
       "<Figure size 432x288 with 1 Axes>"
      ]
     },
     "metadata": {},
     "output_type": "display_data"
    }
   ],
   "source": [
    "sns.set_style('whitegrid') \n",
    "sns.distplot(data[\"duration\"], kde = False, color ='red', bins = 30) \n",
    "plt.show()"
   ]
  },
  {
   "cell_type": "code",
   "execution_count": 16,
   "metadata": {},
   "outputs": [
    {
     "data": {
      "image/png": "[encoded data removed]",
      "text/plain": [
       "<Figure size 432x288 with 1 Axes>"
      ]
     },
     "metadata": {},
     "output_type": "display_data"
    }
   ],
   "source": [
    "sns.set_style('whitegrid') \n",
    "sns.distplot(data[\"maxLiveViewerCount\"], kde = False, color ='red', bins = 30) \n",
    "plt.show()"
   ]
  },
  {
   "cell_type": "code",
   "execution_count": 17,
   "metadata": {},
   "outputs": [
    {
     "data": {
      "image/png": "[encoded data removed]",
      "text/plain": [
       "<Figure size 432x288 with 1 Axes>"
      ]
     },
     "metadata": {},
     "output_type": "display_data"
    }
   ],
   "source": [
    "sns.set_style('whitegrid') \n",
    "sns.distplot(data[\"privateLiveStream\"], kde = False, color ='red', bins = 30) \n",
    "plt.show()"
   ]
  },
  {
   "cell_type": "code",
   "execution_count": 18,
   "metadata": {},
   "outputs": [
    {
     "data": {
      "image/png": "[encoded data removed]",
      "text/plain": [
       "<Figure size 432x288 with 1 Axes>"
      ]
     },
     "metadata": {},
     "output_type": "display_data"
    }
   ],
   "source": [
    "sns.set_style('whitegrid') \n",
    "sns.distplot(data[\"receivedLikeCount\"], kde = False, color ='red', bins = 30) \n",
    "plt.show()"
   ]
  },
  {
   "cell_type": "code",
   "execution_count": 19,
   "metadata": {},
   "outputs": [
    {
     "data": {
      "image/png": "[encoded data removed]",
      "text/plain": [
       "<Figure size 432x288 with 1 Axes>"
      ]
     },
     "metadata": {},
     "output_type": "display_data"
    }
   ],
   "source": [
    "sns.set_style('whitegrid') \n",
    "sns.distplot(data[\"streamerType\"], kde = False, color ='red', bins = 30) \n",
    "plt.show()"
   ]
  },
  {
   "cell_type": "code",
   "execution_count": 20,
   "metadata": {},
   "outputs": [
    {
     "data": {
      "image/png": "[encoded data removed]",
      "text/plain": [
       "<Figure size 432x288 with 1 Axes>"
      ]
     },
     "metadata": {},
     "output_type": "display_data"
    }
   ],
   "source": [
    "sns.set_style('whitegrid') \n",
    "sns.distplot(data[\"uniqueViewerCount\"], kde = False, color ='red', bins = 30) \n",
    "plt.show()"
   ]
  },
  {
   "cell_type": "code",
   "execution_count": 21,
   "metadata": {},
   "outputs": [
    {
     "data": {
      "image/png": "[encoded data removed]",
      "text/plain": [
       "<Figure size 432x288 with 1 Axes>"
      ]
     },
     "metadata": {},
     "output_type": "display_data"
    }
   ],
   "source": [
    "sns.set_style('whitegrid') \n",
    "sns.distplot(data[\"ios\"], kde = False, color ='red', bins = 30) \n",
    "plt.show()"
   ]
  },
  {
   "cell_type": "code",
   "execution_count": 22,
   "metadata": {},
   "outputs": [
    {
     "data": {
      "image/png": "[encoded data removed]",
      "text/plain": [
       "<Figure size 432x288 with 1 Axes>"
      ]
     },
     "metadata": {},
     "output_type": "display_data"
    }
   ],
   "source": [
    "sns.set_style('whitegrid') \n",
    "sns.distplot(data[\"android\"], kde = False, color ='red', bins = 30) \n",
    "plt.show()"
   ]
  },
  {
   "cell_type": "code",
   "execution_count": 23,
   "metadata": {},
   "outputs": [
    {
     "data": {
      "image/png": "[encoded data removed]",
      "text/plain": [
       "<Figure size 432x288 with 1 Axes>"
      ]
     },
     "metadata": {},
     "output_type": "display_data"
    }
   ],
   "source": [
    "sns.set_style('whitegrid') \n",
    "sns.distplot(data[\"durationGTE5sec\"], kde = False, color ='red', bins = 30) \n",
    "plt.show()"
   ]
  },
  {
   "cell_type": "code",
   "execution_count": 24,
   "metadata": {},
   "outputs": [
    {
     "data": {
      "image/png": "[encoded data removed]",
      "text/plain": [
       "<Figure size 432x288 with 1 Axes>"
      ]
     },
     "metadata": {},
     "output_type": "display_data"
    }
   ],
   "source": [
    "sns.set_style('whitegrid') \n",
    "sns.distplot(data[\"durationGTE2min\"], kde = False, color ='red', bins = 30) \n",
    "plt.show()"
   ]
  },
  {
   "cell_type": "code",
   "execution_count": 25,
   "metadata": {},
   "outputs": [
    {
     "data": {
      "image/png": "[encoded data removed]",
      "text/plain": [
       "<Figure size 432x288 with 1 Axes>"
      ]
     },
     "metadata": {},
     "output_type": "display_data"
    }
   ],
   "source": [
    "sns.set_style('whitegrid') \n",
    "sns.distplot(data[\"durationGTE10min\"], kde = False, color ='red', bins = 30) \n",
    "plt.show()"
   ]
  },
  {
   "cell_type": "code",
   "execution_count": 26,
   "metadata": {},
   "outputs": [
    {
     "data": {
      "image/png": "[encoded data removed]",
      "text/plain": [
       "<Figure size 432x288 with 1 Axes>"
      ]
     },
     "metadata": {},
     "output_type": "display_data"
    }
   ],
   "source": [
    "sns.set_style('whitegrid') \n",
    "sns.distplot(data[\"avgViewerDuration\"], kde = False, color ='red', bins = 30) \n",
    "plt.show()"
   ]
  },
  {
   "cell_type": "code",
   "execution_count": 27,
   "metadata": {},
   "outputs": [
    {
     "data": {
      "image/png": "[encoded data removed]",
      "text/plain": [
       "<Figure size 432x288 with 1 Axes>"
      ]
     },
     "metadata": {},
     "output_type": "display_data"
    }
   ],
   "source": [
    "sns.set_style('whitegrid') \n",
    "sns.distplot(data[\"count\"], kde = False, color ='red', bins = 30) \n",
    "plt.show()"
   ]
  },
  {
   "cell_type": "code",
   "execution_count": 28,
   "metadata": {
    "scrolled": true
   },
   "outputs": [
    {
     "data": {
      "image/png": "[encoded data removed]",
      "text/plain": [
       "<Figure size 432x288 with 1 Axes>"
      ]
     },
     "metadata": {},
     "output_type": "display_data"
    }
   ],
   "source": [
    "sns.set_style('whitegrid') \n",
    "sns.distplot(data[\"receivePointEstimated\"], kde = False, color ='red', bins = 30) \n",
    "plt.show()"
   ]
  },
  {
   "cell_type": "markdown",
   "metadata": {},
   "source": [
    "## After Adding Adding A Columns Of Top Streamer Uploading the data Set in notebook ."
   ]
  },
  {
   "cell_type": "code",
   "execution_count": 88,
   "metadata": {},
   "outputs": [],
   "source": [
    "data1 = pd.read_csv('Newupdated_csv.csv')"
   ]
  },
  {
   "cell_type": "code",
   "execution_count": 89,
   "metadata": {
    "scrolled": true
   },
   "outputs": [
    {
     "data": {
      "text/html": [
       "<div>\n",
       "<style scoped>\n",
       "    .dataframe tbody tr th:only-of-type {\n",
       "        vertical-align: middle;\n",
       "    }\n",
       "\n",
       "    .dataframe tbody tr th {\n",
       "        vertical-align: top;\n",
       "    }\n",
       "\n",
       "    .dataframe thead th {\n",
       "        text-align: right;\n",
       "    }\n",
       "</style>\n",
       "<table border=\"1\" class=\"dataframe\">\n",
       "  <thead>\n",
       "    <tr style=\"text-align: right;\">\n",
       "      <th></th>\n",
       "      <th>Unnamed: 0</th>\n",
       "      <th>liveStreamID</th>\n",
       "      <th>duration</th>\n",
       "      <th>closeBy</th>\n",
       "      <th>maxLiveViewerCount</th>\n",
       "      <th>privateLiveStream</th>\n",
       "      <th>receivedLikeCount</th>\n",
       "      <th>streamerType</th>\n",
       "      <th>isShow</th>\n",
       "      <th>userID</th>\n",
       "      <th>...</th>\n",
       "      <th>uniqueViewerCount</th>\n",
       "      <th>ios</th>\n",
       "      <th>android</th>\n",
       "      <th>durationGTE5sec</th>\n",
       "      <th>durationGTE2min</th>\n",
       "      <th>durationGTE10min</th>\n",
       "      <th>avgViewerDuration</th>\n",
       "      <th>count</th>\n",
       "      <th>receivePointEstimated</th>\n",
       "      <th>Top_Streamer</th>\n",
       "    </tr>\n",
       "  </thead>\n",
       "  <tbody>\n",
       "    <tr>\n",
       "      <td>0</td>\n",
       "      <td>0</td>\n",
       "      <td>109437538</td>\n",
       "      <td>16918</td>\n",
       "      <td>normalEnd</td>\n",
       "      <td>363</td>\n",
       "      <td>0</td>\n",
       "      <td>11092</td>\n",
       "      <td>0</td>\n",
       "      <td>False</td>\n",
       "      <td>63a8b9eb-c4a6-4ff6-8aaa-5f4c6f6fd4d7</td>\n",
       "      <td>...</td>\n",
       "      <td>779</td>\n",
       "      <td>46</td>\n",
       "      <td>30</td>\n",
       "      <td>68</td>\n",
       "      <td>17</td>\n",
       "      <td>13</td>\n",
       "      <td>424.32</td>\n",
       "      <td>1108</td>\n",
       "      <td>13105</td>\n",
       "      <td>Yes</td>\n",
       "    </tr>\n",
       "    <tr>\n",
       "      <td>1</td>\n",
       "      <td>1</td>\n",
       "      <td>109441785</td>\n",
       "      <td>23753</td>\n",
       "      <td>normalEnd</td>\n",
       "      <td>100</td>\n",
       "      <td>0</td>\n",
       "      <td>772</td>\n",
       "      <td>0</td>\n",
       "      <td>False</td>\n",
       "      <td>6cd90016-b679-4a7b-8cc6-2c43d4590cca</td>\n",
       "      <td>...</td>\n",
       "      <td>821</td>\n",
       "      <td>54</td>\n",
       "      <td>38</td>\n",
       "      <td>68</td>\n",
       "      <td>20</td>\n",
       "      <td>8</td>\n",
       "      <td>186.28</td>\n",
       "      <td>2318</td>\n",
       "      <td>90701</td>\n",
       "      <td>No</td>\n",
       "    </tr>\n",
       "    <tr>\n",
       "      <td>2</td>\n",
       "      <td>2</td>\n",
       "      <td>109438205</td>\n",
       "      <td>13332</td>\n",
       "      <td>disconnect</td>\n",
       "      <td>471</td>\n",
       "      <td>0</td>\n",
       "      <td>19403</td>\n",
       "      <td>0</td>\n",
       "      <td>False</td>\n",
       "      <td>e4f04b19-ad3e-4c9d-7f29-6a2f6c93c842</td>\n",
       "      <td>...</td>\n",
       "      <td>1605</td>\n",
       "      <td>529</td>\n",
       "      <td>223</td>\n",
       "      <td>696</td>\n",
       "      <td>60</td>\n",
       "      <td>17</td>\n",
       "      <td>81.14</td>\n",
       "      <td>1199</td>\n",
       "      <td>222376</td>\n",
       "      <td>No</td>\n",
       "    </tr>\n",
       "    <tr>\n",
       "      <td>3</td>\n",
       "      <td>3</td>\n",
       "      <td>109438917</td>\n",
       "      <td>6786</td>\n",
       "      <td>normalEnd</td>\n",
       "      <td>44</td>\n",
       "      <td>0</td>\n",
       "      <td>191</td>\n",
       "      <td>0</td>\n",
       "      <td>False</td>\n",
       "      <td>b4dc876b-06fe-48b2-a40b-fa7f5007697a</td>\n",
       "      <td>...</td>\n",
       "      <td>96</td>\n",
       "      <td>23</td>\n",
       "      <td>24</td>\n",
       "      <td>41</td>\n",
       "      <td>12</td>\n",
       "      <td>8</td>\n",
       "      <td>389.91</td>\n",
       "      <td>432</td>\n",
       "      <td>4313</td>\n",
       "      <td>Yes</td>\n",
       "    </tr>\n",
       "    <tr>\n",
       "      <td>4</td>\n",
       "      <td>4</td>\n",
       "      <td>109442185</td>\n",
       "      <td>1782</td>\n",
       "      <td>normalEnd</td>\n",
       "      <td>52</td>\n",
       "      <td>0</td>\n",
       "      <td>77</td>\n",
       "      <td>0</td>\n",
       "      <td>False</td>\n",
       "      <td>8258d28e-47b9-4ce8-a765-29175b663a1d</td>\n",
       "      <td>...</td>\n",
       "      <td>109</td>\n",
       "      <td>20</td>\n",
       "      <td>18</td>\n",
       "      <td>38</td>\n",
       "      <td>17</td>\n",
       "      <td>5</td>\n",
       "      <td>222.76</td>\n",
       "      <td>162</td>\n",
       "      <td>1547</td>\n",
       "      <td>No</td>\n",
       "    </tr>\n",
       "  </tbody>\n",
       "</table>\n",
       "<p>5 rows × 21 columns</p>\n",
       "</div>"
      ],
      "text/plain": [
       "   Unnamed: 0  liveStreamID  duration     closeBy  maxLiveViewerCount  \\\n",
       "0           0     109437538     16918   normalEnd                 363   \n",
       "1           1     109441785     23753   normalEnd                 100   \n",
       "2           2     109438205     13332  disconnect                 471   \n",
       "3           3     109438917      6786   normalEnd                  44   \n",
       "4           4     109442185      1782   normalEnd                  52   \n",
       "\n",
       "   privateLiveStream  receivedLikeCount  streamerType  isShow  \\\n",
       "0                  0              11092             0   False   \n",
       "1                  0                772             0   False   \n",
       "2                  0              19403             0   False   \n",
       "3                  0                191             0   False   \n",
       "4                  0                 77             0   False   \n",
       "\n",
       "                                 userID  ... uniqueViewerCount  ios  android  \\\n",
       "0  63a8b9eb-c4a6-4ff6-8aaa-5f4c6f6fd4d7  ...               779   46       30   \n",
       "1  6cd90016-b679-4a7b-8cc6-2c43d4590cca  ...               821   54       38   \n",
       "2  e4f04b19-ad3e-4c9d-7f29-6a2f6c93c842  ...              1605  529      223   \n",
       "3  b4dc876b-06fe-48b2-a40b-fa7f5007697a  ...                96   23       24   \n",
       "4  8258d28e-47b9-4ce8-a765-29175b663a1d  ...               109   20       18   \n",
       "\n",
       "   durationGTE5sec  durationGTE2min  durationGTE10min  avgViewerDuration  \\\n",
       "0               68               17                13             424.32   \n",
       "1               68               20                 8             186.28   \n",
       "2              696               60                17              81.14   \n",
       "3               41               12                 8             389.91   \n",
       "4               38               17                 5             222.76   \n",
       "\n",
       "   count  receivePointEstimated  Top_Streamer  \n",
       "0   1108                  13105           Yes  \n",
       "1   2318                  90701            No  \n",
       "2   1199                 222376            No  \n",
       "3    432                   4313           Yes  \n",
       "4    162                   1547            No  \n",
       "\n",
       "[5 rows x 21 columns]"
      ]
     },
     "execution_count": 89,
     "metadata": {},
     "output_type": "execute_result"
    }
   ],
   "source": [
    "data1.head()"
   ]
  },
  {
   "cell_type": "markdown",
   "metadata": {},
   "source": [
    "## Droping all the columns which we are not going to use in our model building ."
   ]
  },
  {
   "cell_type": "code",
   "execution_count": 90,
   "metadata": {},
   "outputs": [],
   "source": [
    "#df.drop(['A'], axis = 1) "
   ]
  },
  {
   "cell_type": "code",
   "execution_count": 91,
   "metadata": {},
   "outputs": [],
   "source": [
    "data1.drop(['Unnamed: 0',\"liveStreamID\",'userID'],axis = 1,inplace=True)"
   ]
  },
  {
   "cell_type": "code",
   "execution_count": 92,
   "metadata": {},
   "outputs": [
    {
     "data": {
      "text/html": [
       "<div>\n",
       "<style scoped>\n",
       "    .dataframe tbody tr th:only-of-type {\n",
       "        vertical-align: middle;\n",
       "    }\n",
       "\n",
       "    .dataframe tbody tr th {\n",
       "        vertical-align: top;\n",
       "    }\n",
       "\n",
       "    .dataframe thead th {\n",
       "        text-align: right;\n",
       "    }\n",
       "</style>\n",
       "<table border=\"1\" class=\"dataframe\">\n",
       "  <thead>\n",
       "    <tr style=\"text-align: right;\">\n",
       "      <th></th>\n",
       "      <th>duration</th>\n",
       "      <th>closeBy</th>\n",
       "      <th>maxLiveViewerCount</th>\n",
       "      <th>privateLiveStream</th>\n",
       "      <th>receivedLikeCount</th>\n",
       "      <th>streamerType</th>\n",
       "      <th>isShow</th>\n",
       "      <th>registerCountry</th>\n",
       "      <th>uniqueViewerCount</th>\n",
       "      <th>ios</th>\n",
       "      <th>android</th>\n",
       "      <th>durationGTE5sec</th>\n",
       "      <th>durationGTE2min</th>\n",
       "      <th>durationGTE10min</th>\n",
       "      <th>avgViewerDuration</th>\n",
       "      <th>count</th>\n",
       "      <th>receivePointEstimated</th>\n",
       "      <th>Top_Streamer</th>\n",
       "    </tr>\n",
       "  </thead>\n",
       "  <tbody>\n",
       "    <tr>\n",
       "      <td>0</td>\n",
       "      <td>16918</td>\n",
       "      <td>normalEnd</td>\n",
       "      <td>363</td>\n",
       "      <td>0</td>\n",
       "      <td>11092</td>\n",
       "      <td>0</td>\n",
       "      <td>False</td>\n",
       "      <td>United States</td>\n",
       "      <td>779</td>\n",
       "      <td>46</td>\n",
       "      <td>30</td>\n",
       "      <td>68</td>\n",
       "      <td>17</td>\n",
       "      <td>13</td>\n",
       "      <td>424.32</td>\n",
       "      <td>1108</td>\n",
       "      <td>13105</td>\n",
       "      <td>Yes</td>\n",
       "    </tr>\n",
       "    <tr>\n",
       "      <td>1</td>\n",
       "      <td>23753</td>\n",
       "      <td>normalEnd</td>\n",
       "      <td>100</td>\n",
       "      <td>0</td>\n",
       "      <td>772</td>\n",
       "      <td>0</td>\n",
       "      <td>False</td>\n",
       "      <td>United States</td>\n",
       "      <td>821</td>\n",
       "      <td>54</td>\n",
       "      <td>38</td>\n",
       "      <td>68</td>\n",
       "      <td>20</td>\n",
       "      <td>8</td>\n",
       "      <td>186.28</td>\n",
       "      <td>2318</td>\n",
       "      <td>90701</td>\n",
       "      <td>No</td>\n",
       "    </tr>\n",
       "    <tr>\n",
       "      <td>2</td>\n",
       "      <td>13332</td>\n",
       "      <td>disconnect</td>\n",
       "      <td>471</td>\n",
       "      <td>0</td>\n",
       "      <td>19403</td>\n",
       "      <td>0</td>\n",
       "      <td>False</td>\n",
       "      <td>United States</td>\n",
       "      <td>1605</td>\n",
       "      <td>529</td>\n",
       "      <td>223</td>\n",
       "      <td>696</td>\n",
       "      <td>60</td>\n",
       "      <td>17</td>\n",
       "      <td>81.14</td>\n",
       "      <td>1199</td>\n",
       "      <td>222376</td>\n",
       "      <td>No</td>\n",
       "    </tr>\n",
       "    <tr>\n",
       "      <td>3</td>\n",
       "      <td>6786</td>\n",
       "      <td>normalEnd</td>\n",
       "      <td>44</td>\n",
       "      <td>0</td>\n",
       "      <td>191</td>\n",
       "      <td>0</td>\n",
       "      <td>False</td>\n",
       "      <td>United States</td>\n",
       "      <td>96</td>\n",
       "      <td>23</td>\n",
       "      <td>24</td>\n",
       "      <td>41</td>\n",
       "      <td>12</td>\n",
       "      <td>8</td>\n",
       "      <td>389.91</td>\n",
       "      <td>432</td>\n",
       "      <td>4313</td>\n",
       "      <td>Yes</td>\n",
       "    </tr>\n",
       "    <tr>\n",
       "      <td>4</td>\n",
       "      <td>1782</td>\n",
       "      <td>normalEnd</td>\n",
       "      <td>52</td>\n",
       "      <td>0</td>\n",
       "      <td>77</td>\n",
       "      <td>0</td>\n",
       "      <td>False</td>\n",
       "      <td>United States</td>\n",
       "      <td>109</td>\n",
       "      <td>20</td>\n",
       "      <td>18</td>\n",
       "      <td>38</td>\n",
       "      <td>17</td>\n",
       "      <td>5</td>\n",
       "      <td>222.76</td>\n",
       "      <td>162</td>\n",
       "      <td>1547</td>\n",
       "      <td>No</td>\n",
       "    </tr>\n",
       "    <tr>\n",
       "      <td>5</td>\n",
       "      <td>1749</td>\n",
       "      <td>normalEnd</td>\n",
       "      <td>45</td>\n",
       "      <td>0</td>\n",
       "      <td>107</td>\n",
       "      <td>0</td>\n",
       "      <td>False</td>\n",
       "      <td>United States</td>\n",
       "      <td>116</td>\n",
       "      <td>25</td>\n",
       "      <td>27</td>\n",
       "      <td>52</td>\n",
       "      <td>19</td>\n",
       "      <td>4</td>\n",
       "      <td>192.87</td>\n",
       "      <td>104</td>\n",
       "      <td>3095</td>\n",
       "      <td>No</td>\n",
       "    </tr>\n",
       "    <tr>\n",
       "      <td>6</td>\n",
       "      <td>1756</td>\n",
       "      <td>normalEnd</td>\n",
       "      <td>50</td>\n",
       "      <td>0</td>\n",
       "      <td>199</td>\n",
       "      <td>0</td>\n",
       "      <td>False</td>\n",
       "      <td>United States</td>\n",
       "      <td>120</td>\n",
       "      <td>23</td>\n",
       "      <td>19</td>\n",
       "      <td>40</td>\n",
       "      <td>19</td>\n",
       "      <td>12</td>\n",
       "      <td>323.07</td>\n",
       "      <td>106</td>\n",
       "      <td>2112</td>\n",
       "      <td>No</td>\n",
       "    </tr>\n",
       "    <tr>\n",
       "      <td>7</td>\n",
       "      <td>1792</td>\n",
       "      <td>normalEnd</td>\n",
       "      <td>365</td>\n",
       "      <td>0</td>\n",
       "      <td>3424</td>\n",
       "      <td>0</td>\n",
       "      <td>False</td>\n",
       "      <td>United States</td>\n",
       "      <td>377</td>\n",
       "      <td>83</td>\n",
       "      <td>53</td>\n",
       "      <td>131</td>\n",
       "      <td>11</td>\n",
       "      <td>4</td>\n",
       "      <td>68.12</td>\n",
       "      <td>143</td>\n",
       "      <td>149405</td>\n",
       "      <td>No</td>\n",
       "    </tr>\n",
       "    <tr>\n",
       "      <td>8</td>\n",
       "      <td>233</td>\n",
       "      <td>Incoming call</td>\n",
       "      <td>0</td>\n",
       "      <td>0</td>\n",
       "      <td>0</td>\n",
       "      <td>0</td>\n",
       "      <td>False</td>\n",
       "      <td>United States</td>\n",
       "      <td>0</td>\n",
       "      <td>0</td>\n",
       "      <td>0</td>\n",
       "      <td>0</td>\n",
       "      <td>0</td>\n",
       "      <td>0</td>\n",
       "      <td>7.00</td>\n",
       "      <td>0</td>\n",
       "      <td>0</td>\n",
       "      <td>No</td>\n",
       "    </tr>\n",
       "    <tr>\n",
       "      <td>9</td>\n",
       "      <td>5264</td>\n",
       "      <td>end by new stream</td>\n",
       "      <td>0</td>\n",
       "      <td>0</td>\n",
       "      <td>0</td>\n",
       "      <td>0</td>\n",
       "      <td>False</td>\n",
       "      <td>United States</td>\n",
       "      <td>0</td>\n",
       "      <td>0</td>\n",
       "      <td>0</td>\n",
       "      <td>0</td>\n",
       "      <td>0</td>\n",
       "      <td>0</td>\n",
       "      <td>7.00</td>\n",
       "      <td>0</td>\n",
       "      <td>0</td>\n",
       "      <td>No</td>\n",
       "    </tr>\n",
       "    <tr>\n",
       "      <td>10</td>\n",
       "      <td>102</td>\n",
       "      <td>normalEnd</td>\n",
       "      <td>0</td>\n",
       "      <td>0</td>\n",
       "      <td>0</td>\n",
       "      <td>0</td>\n",
       "      <td>False</td>\n",
       "      <td>United States</td>\n",
       "      <td>0</td>\n",
       "      <td>0</td>\n",
       "      <td>0</td>\n",
       "      <td>0</td>\n",
       "      <td>0</td>\n",
       "      <td>0</td>\n",
       "      <td>7.00</td>\n",
       "      <td>0</td>\n",
       "      <td>0</td>\n",
       "      <td>No</td>\n",
       "    </tr>\n",
       "    <tr>\n",
       "      <td>11</td>\n",
       "      <td>307</td>\n",
       "      <td>Incoming call</td>\n",
       "      <td>0</td>\n",
       "      <td>0</td>\n",
       "      <td>0</td>\n",
       "      <td>0</td>\n",
       "      <td>False</td>\n",
       "      <td>United States</td>\n",
       "      <td>0</td>\n",
       "      <td>0</td>\n",
       "      <td>0</td>\n",
       "      <td>0</td>\n",
       "      <td>0</td>\n",
       "      <td>0</td>\n",
       "      <td>7.00</td>\n",
       "      <td>0</td>\n",
       "      <td>0</td>\n",
       "      <td>No</td>\n",
       "    </tr>\n",
       "    <tr>\n",
       "      <td>12</td>\n",
       "      <td>19</td>\n",
       "      <td>normalEnd</td>\n",
       "      <td>0</td>\n",
       "      <td>0</td>\n",
       "      <td>0</td>\n",
       "      <td>0</td>\n",
       "      <td>False</td>\n",
       "      <td>United States</td>\n",
       "      <td>0</td>\n",
       "      <td>0</td>\n",
       "      <td>0</td>\n",
       "      <td>0</td>\n",
       "      <td>0</td>\n",
       "      <td>0</td>\n",
       "      <td>7.00</td>\n",
       "      <td>0</td>\n",
       "      <td>0</td>\n",
       "      <td>No</td>\n",
       "    </tr>\n",
       "    <tr>\n",
       "      <td>13</td>\n",
       "      <td>245</td>\n",
       "      <td>normalEnd</td>\n",
       "      <td>0</td>\n",
       "      <td>0</td>\n",
       "      <td>0</td>\n",
       "      <td>0</td>\n",
       "      <td>False</td>\n",
       "      <td>United States</td>\n",
       "      <td>0</td>\n",
       "      <td>0</td>\n",
       "      <td>0</td>\n",
       "      <td>0</td>\n",
       "      <td>0</td>\n",
       "      <td>0</td>\n",
       "      <td>7.00</td>\n",
       "      <td>0</td>\n",
       "      <td>0</td>\n",
       "      <td>No</td>\n",
       "    </tr>\n",
       "    <tr>\n",
       "      <td>14</td>\n",
       "      <td>4</td>\n",
       "      <td>normalEnd</td>\n",
       "      <td>0</td>\n",
       "      <td>0</td>\n",
       "      <td>0</td>\n",
       "      <td>0</td>\n",
       "      <td>False</td>\n",
       "      <td>United States</td>\n",
       "      <td>0</td>\n",
       "      <td>0</td>\n",
       "      <td>0</td>\n",
       "      <td>0</td>\n",
       "      <td>0</td>\n",
       "      <td>0</td>\n",
       "      <td>7.00</td>\n",
       "      <td>0</td>\n",
       "      <td>0</td>\n",
       "      <td>No</td>\n",
       "    </tr>\n",
       "    <tr>\n",
       "      <td>15</td>\n",
       "      <td>8</td>\n",
       "      <td>normalEnd</td>\n",
       "      <td>0</td>\n",
       "      <td>0</td>\n",
       "      <td>0</td>\n",
       "      <td>0</td>\n",
       "      <td>False</td>\n",
       "      <td>United States</td>\n",
       "      <td>0</td>\n",
       "      <td>0</td>\n",
       "      <td>0</td>\n",
       "      <td>0</td>\n",
       "      <td>0</td>\n",
       "      <td>0</td>\n",
       "      <td>7.00</td>\n",
       "      <td>0</td>\n",
       "      <td>0</td>\n",
       "      <td>No</td>\n",
       "    </tr>\n",
       "    <tr>\n",
       "      <td>16</td>\n",
       "      <td>96</td>\n",
       "      <td>normalEnd</td>\n",
       "      <td>0</td>\n",
       "      <td>0</td>\n",
       "      <td>0</td>\n",
       "      <td>0</td>\n",
       "      <td>False</td>\n",
       "      <td>United States</td>\n",
       "      <td>0</td>\n",
       "      <td>0</td>\n",
       "      <td>0</td>\n",
       "      <td>0</td>\n",
       "      <td>0</td>\n",
       "      <td>0</td>\n",
       "      <td>7.00</td>\n",
       "      <td>0</td>\n",
       "      <td>0</td>\n",
       "      <td>No</td>\n",
       "    </tr>\n",
       "    <tr>\n",
       "      <td>17</td>\n",
       "      <td>3</td>\n",
       "      <td>normalEnd</td>\n",
       "      <td>0</td>\n",
       "      <td>0</td>\n",
       "      <td>0</td>\n",
       "      <td>0</td>\n",
       "      <td>False</td>\n",
       "      <td>United States</td>\n",
       "      <td>0</td>\n",
       "      <td>0</td>\n",
       "      <td>0</td>\n",
       "      <td>0</td>\n",
       "      <td>0</td>\n",
       "      <td>0</td>\n",
       "      <td>7.00</td>\n",
       "      <td>0</td>\n",
       "      <td>0</td>\n",
       "      <td>No</td>\n",
       "    </tr>\n",
       "    <tr>\n",
       "      <td>18</td>\n",
       "      <td>5959</td>\n",
       "      <td>normalEnd</td>\n",
       "      <td>17</td>\n",
       "      <td>0</td>\n",
       "      <td>380</td>\n",
       "      <td>0</td>\n",
       "      <td>False</td>\n",
       "      <td>United States</td>\n",
       "      <td>86</td>\n",
       "      <td>0</td>\n",
       "      <td>0</td>\n",
       "      <td>0</td>\n",
       "      <td>0</td>\n",
       "      <td>0</td>\n",
       "      <td>7.00</td>\n",
       "      <td>389</td>\n",
       "      <td>10264</td>\n",
       "      <td>No</td>\n",
       "    </tr>\n",
       "    <tr>\n",
       "      <td>19</td>\n",
       "      <td>169</td>\n",
       "      <td>normalEnd</td>\n",
       "      <td>8</td>\n",
       "      <td>0</td>\n",
       "      <td>11</td>\n",
       "      <td>0</td>\n",
       "      <td>False</td>\n",
       "      <td>United States</td>\n",
       "      <td>8</td>\n",
       "      <td>1</td>\n",
       "      <td>0</td>\n",
       "      <td>1</td>\n",
       "      <td>0</td>\n",
       "      <td>0</td>\n",
       "      <td>65.00</td>\n",
       "      <td>12</td>\n",
       "      <td>100</td>\n",
       "      <td>No</td>\n",
       "    </tr>\n",
       "  </tbody>\n",
       "</table>\n",
       "</div>"
      ],
      "text/plain": [
       "    duration            closeBy  maxLiveViewerCount  privateLiveStream  \\\n",
       "0      16918          normalEnd                 363                  0   \n",
       "1      23753          normalEnd                 100                  0   \n",
       "2      13332         disconnect                 471                  0   \n",
       "3       6786          normalEnd                  44                  0   \n",
       "4       1782          normalEnd                  52                  0   \n",
       "5       1749          normalEnd                  45                  0   \n",
       "6       1756          normalEnd                  50                  0   \n",
       "7       1792          normalEnd                 365                  0   \n",
       "8        233      Incoming call                   0                  0   \n",
       "9       5264  end by new stream                   0                  0   \n",
       "10       102          normalEnd                   0                  0   \n",
       "11       307      Incoming call                   0                  0   \n",
       "12        19          normalEnd                   0                  0   \n",
       "13       245          normalEnd                   0                  0   \n",
       "14         4          normalEnd                   0                  0   \n",
       "15         8          normalEnd                   0                  0   \n",
       "16        96          normalEnd                   0                  0   \n",
       "17         3          normalEnd                   0                  0   \n",
       "18      5959          normalEnd                  17                  0   \n",
       "19       169          normalEnd                   8                  0   \n",
       "\n",
       "    receivedLikeCount  streamerType  isShow registerCountry  \\\n",
       "0               11092             0   False   United States   \n",
       "1                 772             0   False   United States   \n",
       "2               19403             0   False   United States   \n",
       "3                 191             0   False   United States   \n",
       "4                  77             0   False   United States   \n",
       "5                 107             0   False   United States   \n",
       "6                 199             0   False   United States   \n",
       "7                3424             0   False   United States   \n",
       "8                   0             0   False   United States   \n",
       "9                   0             0   False   United States   \n",
       "10                  0             0   False   United States   \n",
       "11                  0             0   False   United States   \n",
       "12                  0             0   False   United States   \n",
       "13                  0             0   False   United States   \n",
       "14                  0             0   False   United States   \n",
       "15                  0             0   False   United States   \n",
       "16                  0             0   False   United States   \n",
       "17                  0             0   False   United States   \n",
       "18                380             0   False   United States   \n",
       "19                 11             0   False   United States   \n",
       "\n",
       "    uniqueViewerCount  ios  android  durationGTE5sec  durationGTE2min  \\\n",
       "0                 779   46       30               68               17   \n",
       "1                 821   54       38               68               20   \n",
       "2                1605  529      223              696               60   \n",
       "3                  96   23       24               41               12   \n",
       "4                 109   20       18               38               17   \n",
       "5                 116   25       27               52               19   \n",
       "6                 120   23       19               40               19   \n",
       "7                 377   83       53              131               11   \n",
       "8                   0    0        0                0                0   \n",
       "9                   0    0        0                0                0   \n",
       "10                  0    0        0                0                0   \n",
       "11                  0    0        0                0                0   \n",
       "12                  0    0        0                0                0   \n",
       "13                  0    0        0                0                0   \n",
       "14                  0    0        0                0                0   \n",
       "15                  0    0        0                0                0   \n",
       "16                  0    0        0                0                0   \n",
       "17                  0    0        0                0                0   \n",
       "18                 86    0        0                0                0   \n",
       "19                  8    1        0                1                0   \n",
       "\n",
       "    durationGTE10min  avgViewerDuration  count  receivePointEstimated  \\\n",
       "0                 13             424.32   1108                  13105   \n",
       "1                  8             186.28   2318                  90701   \n",
       "2                 17              81.14   1199                 222376   \n",
       "3                  8             389.91    432                   4313   \n",
       "4                  5             222.76    162                   1547   \n",
       "5                  4             192.87    104                   3095   \n",
       "6                 12             323.07    106                   2112   \n",
       "7                  4              68.12    143                 149405   \n",
       "8                  0               7.00      0                      0   \n",
       "9                  0               7.00      0                      0   \n",
       "10                 0               7.00      0                      0   \n",
       "11                 0               7.00      0                      0   \n",
       "12                 0               7.00      0                      0   \n",
       "13                 0               7.00      0                      0   \n",
       "14                 0               7.00      0                      0   \n",
       "15                 0               7.00      0                      0   \n",
       "16                 0               7.00      0                      0   \n",
       "17                 0               7.00      0                      0   \n",
       "18                 0               7.00    389                  10264   \n",
       "19                 0              65.00     12                    100   \n",
       "\n",
       "   Top_Streamer  \n",
       "0           Yes  \n",
       "1            No  \n",
       "2            No  \n",
       "3           Yes  \n",
       "4            No  \n",
       "5            No  \n",
       "6            No  \n",
       "7            No  \n",
       "8            No  \n",
       "9            No  \n",
       "10           No  \n",
       "11           No  \n",
       "12           No  \n",
       "13           No  \n",
       "14           No  \n",
       "15           No  \n",
       "16           No  \n",
       "17           No  \n",
       "18           No  \n",
       "19           No  "
      ]
     },
     "execution_count": 92,
     "metadata": {},
     "output_type": "execute_result"
    }
   ],
   "source": [
    "data1.head(20)"
   ]
  },
  {
   "cell_type": "code",
   "execution_count": 93,
   "metadata": {},
   "outputs": [
    {
     "data": {
      "text/html": [
       "<div>\n",
       "<style scoped>\n",
       "    .dataframe tbody tr th:only-of-type {\n",
       "        vertical-align: middle;\n",
       "    }\n",
       "\n",
       "    .dataframe tbody tr th {\n",
       "        vertical-align: top;\n",
       "    }\n",
       "\n",
       "    .dataframe thead th {\n",
       "        text-align: right;\n",
       "    }\n",
       "</style>\n",
       "<table border=\"1\" class=\"dataframe\">\n",
       "  <thead>\n",
       "    <tr style=\"text-align: right;\">\n",
       "      <th></th>\n",
       "      <th>duration</th>\n",
       "      <th>maxLiveViewerCount</th>\n",
       "      <th>privateLiveStream</th>\n",
       "      <th>receivedLikeCount</th>\n",
       "      <th>streamerType</th>\n",
       "      <th>isShow</th>\n",
       "      <th>uniqueViewerCount</th>\n",
       "      <th>ios</th>\n",
       "      <th>android</th>\n",
       "      <th>durationGTE5sec</th>\n",
       "      <th>durationGTE2min</th>\n",
       "      <th>durationGTE10min</th>\n",
       "      <th>avgViewerDuration</th>\n",
       "      <th>count</th>\n",
       "      <th>receivePointEstimated</th>\n",
       "    </tr>\n",
       "    <tr>\n",
       "      <th>Top_Streamer</th>\n",
       "      <th></th>\n",
       "      <th></th>\n",
       "      <th></th>\n",
       "      <th></th>\n",
       "      <th></th>\n",
       "      <th></th>\n",
       "      <th></th>\n",
       "      <th></th>\n",
       "      <th></th>\n",
       "      <th></th>\n",
       "      <th></th>\n",
       "      <th></th>\n",
       "      <th></th>\n",
       "      <th></th>\n",
       "      <th></th>\n",
       "    </tr>\n",
       "  </thead>\n",
       "  <tbody>\n",
       "    <tr>\n",
       "      <td>No</td>\n",
       "      <td>2844.738742</td>\n",
       "      <td>12.724991</td>\n",
       "      <td>0.0</td>\n",
       "      <td>290.635957</td>\n",
       "      <td>0.0</td>\n",
       "      <td>False</td>\n",
       "      <td>39.936061</td>\n",
       "      <td>17.885528</td>\n",
       "      <td>15.333104</td>\n",
       "      <td>31.455827</td>\n",
       "      <td>5.629082</td>\n",
       "      <td>2.237882</td>\n",
       "      <td>108.680626</td>\n",
       "      <td>75.772774</td>\n",
       "      <td>5166.075971</td>\n",
       "    </tr>\n",
       "    <tr>\n",
       "      <td>Yes</td>\n",
       "      <td>11421.066946</td>\n",
       "      <td>48.179916</td>\n",
       "      <td>0.0</td>\n",
       "      <td>1183.569038</td>\n",
       "      <td>0.0</td>\n",
       "      <td>False</td>\n",
       "      <td>243.841004</td>\n",
       "      <td>128.531381</td>\n",
       "      <td>83.644351</td>\n",
       "      <td>204.071130</td>\n",
       "      <td>49.962343</td>\n",
       "      <td>24.619247</td>\n",
       "      <td>423.404226</td>\n",
       "      <td>747.523013</td>\n",
       "      <td>54010.129707</td>\n",
       "    </tr>\n",
       "  </tbody>\n",
       "</table>\n",
       "</div>"
      ],
      "text/plain": [
       "                  duration  maxLiveViewerCount  privateLiveStream  \\\n",
       "Top_Streamer                                                        \n",
       "No             2844.738742           12.724991                0.0   \n",
       "Yes           11421.066946           48.179916                0.0   \n",
       "\n",
       "              receivedLikeCount  streamerType  isShow  uniqueViewerCount  \\\n",
       "Top_Streamer                                                               \n",
       "No                   290.635957           0.0   False          39.936061   \n",
       "Yes                 1183.569038           0.0   False         243.841004   \n",
       "\n",
       "                     ios    android  durationGTE5sec  durationGTE2min  \\\n",
       "Top_Streamer                                                            \n",
       "No             17.885528  15.333104        31.455827         5.629082   \n",
       "Yes           128.531381  83.644351       204.071130        49.962343   \n",
       "\n",
       "              durationGTE10min  avgViewerDuration       count  \\\n",
       "Top_Streamer                                                    \n",
       "No                    2.237882         108.680626   75.772774   \n",
       "Yes                  24.619247         423.404226  747.523013   \n",
       "\n",
       "              receivePointEstimated  \n",
       "Top_Streamer                         \n",
       "No                      5166.075971  \n",
       "Yes                    54010.129707  "
      ]
     },
     "execution_count": 93,
     "metadata": {},
     "output_type": "execute_result"
    }
   ],
   "source": [
    "var1 = data1.groupby('Top_Streamer')\n",
    "var1.mean()"
   ]
  },
  {
   "cell_type": "code",
   "execution_count": 94,
   "metadata": {},
   "outputs": [
    {
     "data": {
      "image/png": "[encoded data removed]",
      "text/plain": [
       "<Figure size 432x288 with 1 Axes>"
      ]
     },
     "metadata": {},
     "output_type": "display_data"
    }
   ],
   "source": [
    "sns.countplot(x=data1.Top_Streamer ,data = data1)\n",
    "plt.show()"
   ]
  },
  {
   "cell_type": "code",
   "execution_count": 95,
   "metadata": {},
   "outputs": [],
   "source": [
    "obj_col = []\n",
    "num_col = []\n",
    "for col in data1.columns:\n",
    "    if data1[col].dtype=='O':\n",
    "        obj_col.append(col)\n",
    "    else:\n",
    "        num_col.append(col)"
   ]
  },
  {
   "cell_type": "code",
   "execution_count": 96,
   "metadata": {
    "scrolled": true
   },
   "outputs": [
    {
     "data": {
      "text/plain": [
       "['duration',\n",
       " 'maxLiveViewerCount',\n",
       " 'privateLiveStream',\n",
       " 'receivedLikeCount',\n",
       " 'streamerType',\n",
       " 'isShow',\n",
       " 'uniqueViewerCount',\n",
       " 'ios',\n",
       " 'android',\n",
       " 'durationGTE5sec',\n",
       " 'durationGTE2min',\n",
       " 'durationGTE10min',\n",
       " 'avgViewerDuration',\n",
       " 'count',\n",
       " 'receivePointEstimated']"
      ]
     },
     "execution_count": 96,
     "metadata": {},
     "output_type": "execute_result"
    }
   ],
   "source": [
    "num_col"
   ]
  },
  {
   "cell_type": "code",
   "execution_count": 97,
   "metadata": {},
   "outputs": [
    {
     "data": {
      "text/plain": [
       "['closeBy', 'registerCountry', 'Top_Streamer']"
      ]
     },
     "execution_count": 97,
     "metadata": {},
     "output_type": "execute_result"
    }
   ],
   "source": [
    "obj_col"
   ]
  },
  {
   "cell_type": "code",
   "execution_count": 98,
   "metadata": {},
   "outputs": [
    {
     "data": {
      "image/png": "[encoded data removed]",
      "text/plain": [
       "<Figure size 432x288 with 1 Axes>"
      ]
     },
     "metadata": {},
     "output_type": "display_data"
    }
   ],
   "source": [
    "data1.boxplot(column=['duration'])\n",
    "plt.show()\n"
   ]
  },
  {
   "cell_type": "code",
   "execution_count": 99,
   "metadata": {},
   "outputs": [],
   "source": [
    "from sklearn.preprocessing import LabelEncoder\n",
    "labelEncoder_X = LabelEncoder()\n",
    "data1['closeBy'] = labelEncoder_X.fit_transform(data1['closeBy'])\n",
    "data1['registerCountry'] = labelEncoder_X.fit_transform(data1['registerCountry'])\n",
    "data1['Top_Streamer'] = labelEncoder_X.fit_transform(data1['Top_Streamer'])\n"
   ]
  },
  {
   "cell_type": "code",
   "execution_count": 100,
   "metadata": {},
   "outputs": [
    {
     "data": {
      "text/html": [
       "<div>\n",
       "<style scoped>\n",
       "    .dataframe tbody tr th:only-of-type {\n",
       "        vertical-align: middle;\n",
       "    }\n",
       "\n",
       "    .dataframe tbody tr th {\n",
       "        vertical-align: top;\n",
       "    }\n",
       "\n",
       "    .dataframe thead th {\n",
       "        text-align: right;\n",
       "    }\n",
       "</style>\n",
       "<table border=\"1\" class=\"dataframe\">\n",
       "  <thead>\n",
       "    <tr style=\"text-align: right;\">\n",
       "      <th></th>\n",
       "      <th>duration</th>\n",
       "      <th>closeBy</th>\n",
       "      <th>maxLiveViewerCount</th>\n",
       "      <th>privateLiveStream</th>\n",
       "      <th>receivedLikeCount</th>\n",
       "      <th>streamerType</th>\n",
       "      <th>isShow</th>\n",
       "      <th>registerCountry</th>\n",
       "      <th>uniqueViewerCount</th>\n",
       "      <th>ios</th>\n",
       "      <th>android</th>\n",
       "      <th>durationGTE5sec</th>\n",
       "      <th>durationGTE2min</th>\n",
       "      <th>durationGTE10min</th>\n",
       "      <th>avgViewerDuration</th>\n",
       "      <th>count</th>\n",
       "      <th>receivePointEstimated</th>\n",
       "      <th>Top_Streamer</th>\n",
       "    </tr>\n",
       "  </thead>\n",
       "  <tbody>\n",
       "    <tr>\n",
       "      <td>0</td>\n",
       "      <td>16918</td>\n",
       "      <td>9</td>\n",
       "      <td>363</td>\n",
       "      <td>0</td>\n",
       "      <td>11092</td>\n",
       "      <td>0</td>\n",
       "      <td>False</td>\n",
       "      <td>0</td>\n",
       "      <td>779</td>\n",
       "      <td>46</td>\n",
       "      <td>30</td>\n",
       "      <td>68</td>\n",
       "      <td>17</td>\n",
       "      <td>13</td>\n",
       "      <td>424.32</td>\n",
       "      <td>1108</td>\n",
       "      <td>13105</td>\n",
       "      <td>1</td>\n",
       "    </tr>\n",
       "    <tr>\n",
       "      <td>1</td>\n",
       "      <td>23753</td>\n",
       "      <td>9</td>\n",
       "      <td>100</td>\n",
       "      <td>0</td>\n",
       "      <td>772</td>\n",
       "      <td>0</td>\n",
       "      <td>False</td>\n",
       "      <td>0</td>\n",
       "      <td>821</td>\n",
       "      <td>54</td>\n",
       "      <td>38</td>\n",
       "      <td>68</td>\n",
       "      <td>20</td>\n",
       "      <td>8</td>\n",
       "      <td>186.28</td>\n",
       "      <td>2318</td>\n",
       "      <td>90701</td>\n",
       "      <td>0</td>\n",
       "    </tr>\n",
       "    <tr>\n",
       "      <td>2</td>\n",
       "      <td>13332</td>\n",
       "      <td>7</td>\n",
       "      <td>471</td>\n",
       "      <td>0</td>\n",
       "      <td>19403</td>\n",
       "      <td>0</td>\n",
       "      <td>False</td>\n",
       "      <td>0</td>\n",
       "      <td>1605</td>\n",
       "      <td>529</td>\n",
       "      <td>223</td>\n",
       "      <td>696</td>\n",
       "      <td>60</td>\n",
       "      <td>17</td>\n",
       "      <td>81.14</td>\n",
       "      <td>1199</td>\n",
       "      <td>222376</td>\n",
       "      <td>0</td>\n",
       "    </tr>\n",
       "    <tr>\n",
       "      <td>3</td>\n",
       "      <td>6786</td>\n",
       "      <td>9</td>\n",
       "      <td>44</td>\n",
       "      <td>0</td>\n",
       "      <td>191</td>\n",
       "      <td>0</td>\n",
       "      <td>False</td>\n",
       "      <td>0</td>\n",
       "      <td>96</td>\n",
       "      <td>23</td>\n",
       "      <td>24</td>\n",
       "      <td>41</td>\n",
       "      <td>12</td>\n",
       "      <td>8</td>\n",
       "      <td>389.91</td>\n",
       "      <td>432</td>\n",
       "      <td>4313</td>\n",
       "      <td>1</td>\n",
       "    </tr>\n",
       "    <tr>\n",
       "      <td>4</td>\n",
       "      <td>1782</td>\n",
       "      <td>9</td>\n",
       "      <td>52</td>\n",
       "      <td>0</td>\n",
       "      <td>77</td>\n",
       "      <td>0</td>\n",
       "      <td>False</td>\n",
       "      <td>0</td>\n",
       "      <td>109</td>\n",
       "      <td>20</td>\n",
       "      <td>18</td>\n",
       "      <td>38</td>\n",
       "      <td>17</td>\n",
       "      <td>5</td>\n",
       "      <td>222.76</td>\n",
       "      <td>162</td>\n",
       "      <td>1547</td>\n",
       "      <td>0</td>\n",
       "    </tr>\n",
       "  </tbody>\n",
       "</table>\n",
       "</div>"
      ],
      "text/plain": [
       "   duration  closeBy  maxLiveViewerCount  privateLiveStream  \\\n",
       "0     16918        9                 363                  0   \n",
       "1     23753        9                 100                  0   \n",
       "2     13332        7                 471                  0   \n",
       "3      6786        9                  44                  0   \n",
       "4      1782        9                  52                  0   \n",
       "\n",
       "   receivedLikeCount  streamerType  isShow  registerCountry  \\\n",
       "0              11092             0   False                0   \n",
       "1                772             0   False                0   \n",
       "2              19403             0   False                0   \n",
       "3                191             0   False                0   \n",
       "4                 77             0   False                0   \n",
       "\n",
       "   uniqueViewerCount  ios  android  durationGTE5sec  durationGTE2min  \\\n",
       "0                779   46       30               68               17   \n",
       "1                821   54       38               68               20   \n",
       "2               1605  529      223              696               60   \n",
       "3                 96   23       24               41               12   \n",
       "4                109   20       18               38               17   \n",
       "\n",
       "   durationGTE10min  avgViewerDuration  count  receivePointEstimated  \\\n",
       "0                13             424.32   1108                  13105   \n",
       "1                 8             186.28   2318                  90701   \n",
       "2                17              81.14   1199                 222376   \n",
       "3                 8             389.91    432                   4313   \n",
       "4                 5             222.76    162                   1547   \n",
       "\n",
       "   Top_Streamer  \n",
       "0             1  \n",
       "1             0  \n",
       "2             0  \n",
       "3             1  \n",
       "4             0  "
      ]
     },
     "execution_count": 100,
     "metadata": {},
     "output_type": "execute_result"
    }
   ],
   "source": [
    "data1.head()"
   ]
  },
  {
   "cell_type": "code",
   "execution_count": 101,
   "metadata": {},
   "outputs": [],
   "source": [
    "#Attriton is dependent var\n",
    "from sklearn.preprocessing import LabelEncoder\n",
    "label_encoder_y=LabelEncoder()\n",
    "data1['Top_Streamer']=label_encoder_y.fit_transform(data1['Top_Streamer'])"
   ]
  },
  {
   "cell_type": "code",
   "execution_count": 102,
   "metadata": {},
   "outputs": [
    {
     "data": {
      "text/html": [
       "<div>\n",
       "<style scoped>\n",
       "    .dataframe tbody tr th:only-of-type {\n",
       "        vertical-align: middle;\n",
       "    }\n",
       "\n",
       "    .dataframe tbody tr th {\n",
       "        vertical-align: top;\n",
       "    }\n",
       "\n",
       "    .dataframe thead th {\n",
       "        text-align: right;\n",
       "    }\n",
       "</style>\n",
       "<table border=\"1\" class=\"dataframe\">\n",
       "  <thead>\n",
       "    <tr style=\"text-align: right;\">\n",
       "      <th></th>\n",
       "      <th>duration</th>\n",
       "      <th>closeBy</th>\n",
       "      <th>maxLiveViewerCount</th>\n",
       "      <th>privateLiveStream</th>\n",
       "      <th>receivedLikeCount</th>\n",
       "      <th>streamerType</th>\n",
       "      <th>isShow</th>\n",
       "      <th>registerCountry</th>\n",
       "      <th>uniqueViewerCount</th>\n",
       "      <th>ios</th>\n",
       "      <th>android</th>\n",
       "      <th>durationGTE5sec</th>\n",
       "      <th>durationGTE2min</th>\n",
       "      <th>durationGTE10min</th>\n",
       "      <th>avgViewerDuration</th>\n",
       "      <th>count</th>\n",
       "      <th>receivePointEstimated</th>\n",
       "      <th>Top_Streamer</th>\n",
       "    </tr>\n",
       "  </thead>\n",
       "  <tbody>\n",
       "    <tr>\n",
       "      <td>0</td>\n",
       "      <td>16918</td>\n",
       "      <td>9</td>\n",
       "      <td>363</td>\n",
       "      <td>0</td>\n",
       "      <td>11092</td>\n",
       "      <td>0</td>\n",
       "      <td>False</td>\n",
       "      <td>0</td>\n",
       "      <td>779</td>\n",
       "      <td>46</td>\n",
       "      <td>30</td>\n",
       "      <td>68</td>\n",
       "      <td>17</td>\n",
       "      <td>13</td>\n",
       "      <td>424.32</td>\n",
       "      <td>1108</td>\n",
       "      <td>13105</td>\n",
       "      <td>1</td>\n",
       "    </tr>\n",
       "    <tr>\n",
       "      <td>1</td>\n",
       "      <td>23753</td>\n",
       "      <td>9</td>\n",
       "      <td>100</td>\n",
       "      <td>0</td>\n",
       "      <td>772</td>\n",
       "      <td>0</td>\n",
       "      <td>False</td>\n",
       "      <td>0</td>\n",
       "      <td>821</td>\n",
       "      <td>54</td>\n",
       "      <td>38</td>\n",
       "      <td>68</td>\n",
       "      <td>20</td>\n",
       "      <td>8</td>\n",
       "      <td>186.28</td>\n",
       "      <td>2318</td>\n",
       "      <td>90701</td>\n",
       "      <td>0</td>\n",
       "    </tr>\n",
       "    <tr>\n",
       "      <td>2</td>\n",
       "      <td>13332</td>\n",
       "      <td>7</td>\n",
       "      <td>471</td>\n",
       "      <td>0</td>\n",
       "      <td>19403</td>\n",
       "      <td>0</td>\n",
       "      <td>False</td>\n",
       "      <td>0</td>\n",
       "      <td>1605</td>\n",
       "      <td>529</td>\n",
       "      <td>223</td>\n",
       "      <td>696</td>\n",
       "      <td>60</td>\n",
       "      <td>17</td>\n",
       "      <td>81.14</td>\n",
       "      <td>1199</td>\n",
       "      <td>222376</td>\n",
       "      <td>0</td>\n",
       "    </tr>\n",
       "    <tr>\n",
       "      <td>3</td>\n",
       "      <td>6786</td>\n",
       "      <td>9</td>\n",
       "      <td>44</td>\n",
       "      <td>0</td>\n",
       "      <td>191</td>\n",
       "      <td>0</td>\n",
       "      <td>False</td>\n",
       "      <td>0</td>\n",
       "      <td>96</td>\n",
       "      <td>23</td>\n",
       "      <td>24</td>\n",
       "      <td>41</td>\n",
       "      <td>12</td>\n",
       "      <td>8</td>\n",
       "      <td>389.91</td>\n",
       "      <td>432</td>\n",
       "      <td>4313</td>\n",
       "      <td>1</td>\n",
       "    </tr>\n",
       "    <tr>\n",
       "      <td>4</td>\n",
       "      <td>1782</td>\n",
       "      <td>9</td>\n",
       "      <td>52</td>\n",
       "      <td>0</td>\n",
       "      <td>77</td>\n",
       "      <td>0</td>\n",
       "      <td>False</td>\n",
       "      <td>0</td>\n",
       "      <td>109</td>\n",
       "      <td>20</td>\n",
       "      <td>18</td>\n",
       "      <td>38</td>\n",
       "      <td>17</td>\n",
       "      <td>5</td>\n",
       "      <td>222.76</td>\n",
       "      <td>162</td>\n",
       "      <td>1547</td>\n",
       "      <td>0</td>\n",
       "    </tr>\n",
       "  </tbody>\n",
       "</table>\n",
       "</div>"
      ],
      "text/plain": [
       "   duration  closeBy  maxLiveViewerCount  privateLiveStream  \\\n",
       "0     16918        9                 363                  0   \n",
       "1     23753        9                 100                  0   \n",
       "2     13332        7                 471                  0   \n",
       "3      6786        9                  44                  0   \n",
       "4      1782        9                  52                  0   \n",
       "\n",
       "   receivedLikeCount  streamerType  isShow  registerCountry  \\\n",
       "0              11092             0   False                0   \n",
       "1                772             0   False                0   \n",
       "2              19403             0   False                0   \n",
       "3                191             0   False                0   \n",
       "4                 77             0   False                0   \n",
       "\n",
       "   uniqueViewerCount  ios  android  durationGTE5sec  durationGTE2min  \\\n",
       "0                779   46       30               68               17   \n",
       "1                821   54       38               68               20   \n",
       "2               1605  529      223              696               60   \n",
       "3                 96   23       24               41               12   \n",
       "4                109   20       18               38               17   \n",
       "\n",
       "   durationGTE10min  avgViewerDuration  count  receivePointEstimated  \\\n",
       "0                13             424.32   1108                  13105   \n",
       "1                 8             186.28   2318                  90701   \n",
       "2                17              81.14   1199                 222376   \n",
       "3                 8             389.91    432                   4313   \n",
       "4                 5             222.76    162                   1547   \n",
       "\n",
       "   Top_Streamer  \n",
       "0             1  \n",
       "1             0  \n",
       "2             0  \n",
       "3             1  \n",
       "4             0  "
      ]
     },
     "execution_count": 102,
     "metadata": {},
     "output_type": "execute_result"
    }
   ],
   "source": [
    "data1.head()"
   ]
  },
  {
   "cell_type": "code",
   "execution_count": 103,
   "metadata": {},
   "outputs": [
    {
     "data": {
      "text/plain": [
       "Index(['duration', 'closeBy', 'maxLiveViewerCount', 'privateLiveStream',\n",
       "       'receivedLikeCount', 'streamerType', 'isShow', 'registerCountry',\n",
       "       'uniqueViewerCount', 'ios', 'android', 'durationGTE5sec',\n",
       "       'durationGTE2min', 'durationGTE10min', 'avgViewerDuration', 'count',\n",
       "       'receivePointEstimated', 'Top_Streamer'],\n",
       "      dtype='object')"
      ]
     },
     "execution_count": 103,
     "metadata": {},
     "output_type": "execute_result"
    }
   ],
   "source": [
    "data1.columns"
   ]
  },
  {
   "cell_type": "code",
   "execution_count": 104,
   "metadata": {},
   "outputs": [],
   "source": [
    "corr_cols = data1[['duration', 'closeBy', 'maxLiveViewerCount', 'privateLiveStream',\n",
    "       'receivedLikeCount', 'streamerType', 'isShow', 'registerCountry',\n",
    "       'uniqueViewerCount', 'ios', 'android', 'durationGTE5sec',\n",
    "       'durationGTE2min', 'durationGTE10min', 'avgViewerDuration', 'count',\n",
    "       'receivePointEstimated', 'Top_Streamer' ]]"
   ]
  },
  {
   "cell_type": "code",
   "execution_count": 105,
   "metadata": {},
   "outputs": [
    {
     "data": {
      "image/png": "[encoded data removed]",
      "text/plain": [
       "<Figure size 1296x720 with 2 Axes>"
      ]
     },
     "metadata": {},
     "output_type": "display_data"
    }
   ],
   "source": [
    "corr = corr_cols.corr()\n",
    "plt.figure(figsize=(18,10))\n",
    "sns.heatmap(corr, annot = True)\n",
    "plt.show()"
   ]
  },
  {
   "cell_type": "code",
   "execution_count": 106,
   "metadata": {},
   "outputs": [],
   "source": [
    "X = data1.iloc[:,:-1]\n",
    "y = data1.iloc[:,-1]"
   ]
  },
  {
   "cell_type": "code",
   "execution_count": 107,
   "metadata": {},
   "outputs": [
    {
     "data": {
      "text/html": [
       "<div>\n",
       "<style scoped>\n",
       "    .dataframe tbody tr th:only-of-type {\n",
       "        vertical-align: middle;\n",
       "    }\n",
       "\n",
       "    .dataframe tbody tr th {\n",
       "        vertical-align: top;\n",
       "    }\n",
       "\n",
       "    .dataframe thead th {\n",
       "        text-align: right;\n",
       "    }\n",
       "</style>\n",
       "<table border=\"1\" class=\"dataframe\">\n",
       "  <thead>\n",
       "    <tr style=\"text-align: right;\">\n",
       "      <th></th>\n",
       "      <th>duration</th>\n",
       "      <th>closeBy</th>\n",
       "      <th>maxLiveViewerCount</th>\n",
       "      <th>privateLiveStream</th>\n",
       "      <th>receivedLikeCount</th>\n",
       "      <th>streamerType</th>\n",
       "      <th>isShow</th>\n",
       "      <th>registerCountry</th>\n",
       "      <th>uniqueViewerCount</th>\n",
       "      <th>ios</th>\n",
       "      <th>android</th>\n",
       "      <th>durationGTE5sec</th>\n",
       "      <th>durationGTE2min</th>\n",
       "      <th>durationGTE10min</th>\n",
       "      <th>avgViewerDuration</th>\n",
       "      <th>count</th>\n",
       "      <th>receivePointEstimated</th>\n",
       "    </tr>\n",
       "  </thead>\n",
       "  <tbody>\n",
       "    <tr>\n",
       "      <td>0</td>\n",
       "      <td>16918</td>\n",
       "      <td>9</td>\n",
       "      <td>363</td>\n",
       "      <td>0</td>\n",
       "      <td>11092</td>\n",
       "      <td>0</td>\n",
       "      <td>False</td>\n",
       "      <td>0</td>\n",
       "      <td>779</td>\n",
       "      <td>46</td>\n",
       "      <td>30</td>\n",
       "      <td>68</td>\n",
       "      <td>17</td>\n",
       "      <td>13</td>\n",
       "      <td>424.32</td>\n",
       "      <td>1108</td>\n",
       "      <td>13105</td>\n",
       "    </tr>\n",
       "    <tr>\n",
       "      <td>1</td>\n",
       "      <td>23753</td>\n",
       "      <td>9</td>\n",
       "      <td>100</td>\n",
       "      <td>0</td>\n",
       "      <td>772</td>\n",
       "      <td>0</td>\n",
       "      <td>False</td>\n",
       "      <td>0</td>\n",
       "      <td>821</td>\n",
       "      <td>54</td>\n",
       "      <td>38</td>\n",
       "      <td>68</td>\n",
       "      <td>20</td>\n",
       "      <td>8</td>\n",
       "      <td>186.28</td>\n",
       "      <td>2318</td>\n",
       "      <td>90701</td>\n",
       "    </tr>\n",
       "    <tr>\n",
       "      <td>2</td>\n",
       "      <td>13332</td>\n",
       "      <td>7</td>\n",
       "      <td>471</td>\n",
       "      <td>0</td>\n",
       "      <td>19403</td>\n",
       "      <td>0</td>\n",
       "      <td>False</td>\n",
       "      <td>0</td>\n",
       "      <td>1605</td>\n",
       "      <td>529</td>\n",
       "      <td>223</td>\n",
       "      <td>696</td>\n",
       "      <td>60</td>\n",
       "      <td>17</td>\n",
       "      <td>81.14</td>\n",
       "      <td>1199</td>\n",
       "      <td>222376</td>\n",
       "    </tr>\n",
       "    <tr>\n",
       "      <td>3</td>\n",
       "      <td>6786</td>\n",
       "      <td>9</td>\n",
       "      <td>44</td>\n",
       "      <td>0</td>\n",
       "      <td>191</td>\n",
       "      <td>0</td>\n",
       "      <td>False</td>\n",
       "      <td>0</td>\n",
       "      <td>96</td>\n",
       "      <td>23</td>\n",
       "      <td>24</td>\n",
       "      <td>41</td>\n",
       "      <td>12</td>\n",
       "      <td>8</td>\n",
       "      <td>389.91</td>\n",
       "      <td>432</td>\n",
       "      <td>4313</td>\n",
       "    </tr>\n",
       "    <tr>\n",
       "      <td>4</td>\n",
       "      <td>1782</td>\n",
       "      <td>9</td>\n",
       "      <td>52</td>\n",
       "      <td>0</td>\n",
       "      <td>77</td>\n",
       "      <td>0</td>\n",
       "      <td>False</td>\n",
       "      <td>0</td>\n",
       "      <td>109</td>\n",
       "      <td>20</td>\n",
       "      <td>18</td>\n",
       "      <td>38</td>\n",
       "      <td>17</td>\n",
       "      <td>5</td>\n",
       "      <td>222.76</td>\n",
       "      <td>162</td>\n",
       "      <td>1547</td>\n",
       "    </tr>\n",
       "  </tbody>\n",
       "</table>\n",
       "</div>"
      ],
      "text/plain": [
       "   duration  closeBy  maxLiveViewerCount  privateLiveStream  \\\n",
       "0     16918        9                 363                  0   \n",
       "1     23753        9                 100                  0   \n",
       "2     13332        7                 471                  0   \n",
       "3      6786        9                  44                  0   \n",
       "4      1782        9                  52                  0   \n",
       "\n",
       "   receivedLikeCount  streamerType  isShow  registerCountry  \\\n",
       "0              11092             0   False                0   \n",
       "1                772             0   False                0   \n",
       "2              19403             0   False                0   \n",
       "3                191             0   False                0   \n",
       "4                 77             0   False                0   \n",
       "\n",
       "   uniqueViewerCount  ios  android  durationGTE5sec  durationGTE2min  \\\n",
       "0                779   46       30               68               17   \n",
       "1                821   54       38               68               20   \n",
       "2               1605  529      223              696               60   \n",
       "3                 96   23       24               41               12   \n",
       "4                109   20       18               38               17   \n",
       "\n",
       "   durationGTE10min  avgViewerDuration  count  receivePointEstimated  \n",
       "0                13             424.32   1108                  13105  \n",
       "1                 8             186.28   2318                  90701  \n",
       "2                17              81.14   1199                 222376  \n",
       "3                 8             389.91    432                   4313  \n",
       "4                 5             222.76    162                   1547  "
      ]
     },
     "execution_count": 107,
     "metadata": {},
     "output_type": "execute_result"
    }
   ],
   "source": [
    "X.head()"
   ]
  },
  {
   "cell_type": "code",
   "execution_count": 108,
   "metadata": {},
   "outputs": [
    {
     "data": {
      "text/plain": [
       "0    1\n",
       "1    0\n",
       "2    0\n",
       "3    1\n",
       "4    0\n",
       "Name: Top_Streamer, dtype: int64"
      ]
     },
     "execution_count": 108,
     "metadata": {},
     "output_type": "execute_result"
    }
   ],
   "source": [
    "y.head()"
   ]
  },
  {
   "cell_type": "code",
   "execution_count": 109,
   "metadata": {},
   "outputs": [],
   "source": [
    "from sklearn.preprocessing import scale\n",
    "X = scale(X)"
   ]
  },
  {
   "cell_type": "code",
   "execution_count": 110,
   "metadata": {},
   "outputs": [],
   "source": [
    "from sklearn.model_selection import train_test_split"
   ]
  },
  {
   "cell_type": "code",
   "execution_count": 111,
   "metadata": {},
   "outputs": [],
   "source": [
    "X_train,X_test,y_train,y_test = train_test_split(X,y, test_size = 0.20,random_state = 30)"
   ]
  },
  {
   "cell_type": "code",
   "execution_count": 112,
   "metadata": {},
   "outputs": [],
   "source": [
    "from sklearn.ensemble import RandomForestClassifier"
   ]
  },
  {
   "cell_type": "code",
   "execution_count": 113,
   "metadata": {},
   "outputs": [],
   "source": [
    "model = RandomForestClassifier()"
   ]
  },
  {
   "cell_type": "code",
   "execution_count": 114,
   "metadata": {},
   "outputs": [
    {
     "name": "stderr",
     "output_type": "stream",
     "text": [
      "C:\\ProgramData\\Anaconda3\\lib\\site-packages\\sklearn\\ensemble\\forest.py:245: FutureWarning: The default value of n_estimators will change from 10 in version 0.20 to 100 in 0.22.\n",
      "  \"10 in version 0.20 to 100 in 0.22.\", FutureWarning)\n"
     ]
    },
    {
     "data": {
      "text/plain": [
       "RandomForestClassifier(bootstrap=True, class_weight=None, criterion='gini',\n",
       "                       max_depth=None, max_features='auto', max_leaf_nodes=None,\n",
       "                       min_impurity_decrease=0.0, min_impurity_split=None,\n",
       "                       min_samples_leaf=1, min_samples_split=2,\n",
       "                       min_weight_fraction_leaf=0.0, n_estimators=10,\n",
       "                       n_jobs=None, oob_score=False, random_state=None,\n",
       "                       verbose=0, warm_start=False)"
      ]
     },
     "execution_count": 114,
     "metadata": {},
     "output_type": "execute_result"
    }
   ],
   "source": [
    "model.fit(X_train,y_train)"
   ]
  },
  {
   "cell_type": "code",
   "execution_count": 135,
   "metadata": {},
   "outputs": [],
   "source": [
    "predict = model.predict(X_test)"
   ]
  },
  {
   "cell_type": "markdown",
   "metadata": {},
   "source": [
    "## Model Evaluation "
   ]
  },
  {
   "cell_type": "code",
   "execution_count": 116,
   "metadata": {},
   "outputs": [],
   "source": [
    "from sklearn.metrics import accuracy_score, confusion_matrix"
   ]
  },
  {
   "cell_type": "code",
   "execution_count": 117,
   "metadata": {},
   "outputs": [
    {
     "data": {
      "text/plain": [
       "0.9634920634920635"
      ]
     },
     "execution_count": 117,
     "metadata": {},
     "output_type": "execute_result"
    }
   ],
   "source": [
    "accuracy_score(y_test,predict)"
   ]
  },
  {
   "cell_type": "code",
   "execution_count": 118,
   "metadata": {
    "scrolled": true
   },
   "outputs": [
    {
     "name": "stdout",
     "output_type": "stream",
     "text": [
      "Parameters currently in use:\n",
      "\n",
      "{'bootstrap': True,\n",
      " 'class_weight': None,\n",
      " 'criterion': 'gini',\n",
      " 'max_depth': None,\n",
      " 'max_features': 'auto',\n",
      " 'max_leaf_nodes': None,\n",
      " 'min_impurity_decrease': 0.0,\n",
      " 'min_impurity_split': None,\n",
      " 'min_samples_leaf': 1,\n",
      " 'min_samples_split': 2,\n",
      " 'min_weight_fraction_leaf': 0.0,\n",
      " 'n_estimators': 10,\n",
      " 'n_jobs': None,\n",
      " 'oob_score': False,\n",
      " 'random_state': None,\n",
      " 'verbose': 0,\n",
      " 'warm_start': False}\n"
     ]
    }
   ],
   "source": [
    "from pprint import pprint# Look at parameters used by our current forest\n",
    "print('Parameters currently in use:\\n')\n",
    "pprint(model.get_params())"
   ]
  },
  {
   "cell_type": "code",
   "execution_count": 119,
   "metadata": {},
   "outputs": [],
   "source": [
    "from sklearn.metrics import fbeta_score"
   ]
  },
  {
   "cell_type": "code",
   "execution_count": 136,
   "metadata": {},
   "outputs": [
    {
     "name": "stdout",
     "output_type": "stream",
     "text": [
      "F1 Score: 0.9634920634920635\n"
     ]
    }
   ],
   "source": [
    "print('F1 Score:', fbeta_score(y_test,predict, beta=2, average='micro'))"
   ]
  },
  {
   "cell_type": "code",
   "execution_count": 123,
   "metadata": {},
   "outputs": [],
   "source": [
    "from sklearn.metrics import f1_score\n",
    "from sklearn.metrics import precision_score\n",
    "from sklearn.metrics import recall_score"
   ]
  },
  {
   "cell_type": "code",
   "execution_count": 124,
   "metadata": {},
   "outputs": [],
   "source": [
    "p = precision_score(y_test, predict)"
   ]
  },
  {
   "cell_type": "code",
   "execution_count": 125,
   "metadata": {},
   "outputs": [],
   "source": [
    "r = recall_score(y_test, predict)\n",
    "f = f1_score(y_test, predict)"
   ]
  },
  {
   "cell_type": "code",
   "execution_count": 126,
   "metadata": {},
   "outputs": [
    {
     "name": "stdout",
     "output_type": "stream",
     "text": [
      "No Precision or Recall: p=0.864, r=0.691, f=0.768\n"
     ]
    }
   ],
   "source": [
    "print('No Precision or Recall: p=%.3f, r=%.3f, f=%.3f' % (p, r, f))"
   ]
  },
  {
   "cell_type": "code",
   "execution_count": 128,
   "metadata": {},
   "outputs": [
    {
     "name": "stdout",
     "output_type": "stream",
     "text": [
      "[[569   6]\n",
      " [ 17  38]]\n"
     ]
    }
   ],
   "source": [
    "from sklearn import metrics\n",
    "print(metrics.confusion_matrix(y_test, predict))"
   ]
  },
  {
   "cell_type": "code",
   "execution_count": null,
   "metadata": {},
   "outputs": [],
   "source": []
  },
  {
   "cell_type": "code",
   "execution_count": null,
   "metadata": {},
   "outputs": [],
   "source": []
  }
 ],
 "metadata": {
  "kernelspec": {
   "display_name": "Python 3",
   "language": "python",
   "name": "python3"
  },
  "language_info": {
   "codemirror_mode": {
    "name": "ipython",
    "version": 3
   },
   "file_extension": ".py",
   "mimetype": "text/x-python",
   "name": "python",
   "nbconvert_exporter": "python",
   "pygments_lexer": "ipython3",
   "version": "3.7.4"
  }
 },
 "nbformat": 4,
 "nbformat_minor": 2
}
